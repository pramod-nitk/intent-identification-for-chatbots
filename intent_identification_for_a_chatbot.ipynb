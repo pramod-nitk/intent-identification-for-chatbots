{
  "nbformat": 4,
  "nbformat_minor": 0,
  "metadata": {
    "anaconda-cloud": {},
    "kernelspec": {
      "display_name": "Python [default]",
      "language": "python",
      "name": "python2"
    },
    "language_info": {
      "codemirror_mode": {
        "name": "ipython",
        "version": 2
      },
      "file_extension": ".py",
      "mimetype": "text/x-python",
      "name": "python",
      "nbconvert_exporter": "python",
      "pygments_lexer": "ipython2",
      "version": "2.7.14"
    },
    "colab": {
      "name": "intent identification for a chatbot.ipynb",
      "provenance": [],
      "include_colab_link": true
    }
  },
  "cells": [
    {
      "cell_type": "markdown",
      "metadata": {
        "id": "view-in-github",
        "colab_type": "text"
      },
      "source": [
        "<a href=\"https://colab.research.google.com/github/pramod-nitk/Predict-loan-senctioned-amount-/blob/master/intent_identification_for_a_chatbot.ipynb\" target=\"_parent\"><img src=\"https://colab.research.google.com/assets/colab-badge.svg\" alt=\"Open In Colab\"/></a>"
      ]
    },
    {
      "cell_type": "code",
      "metadata": {
        "id": "yzhbzpZiYhgZ",
        "outputId": "78553c58-4f93-40e2-c351-381b8e89fab2"
      },
      "source": [
        "import pandas as pd\n",
        "import falcon\n",
        "import pickle\n",
        "import numpy as np\n",
        "from sklearn.metrics import classification_report\n",
        "from sklearn.feature_extraction.text import TfidfVectorizer\n",
        "from autocorrect import spell\n",
        "import nltk\n",
        "import spacy\n",
        "import en_core_web_sm\n",
        "from gensim import corpora, models\n",
        "import gensim\n",
        "import stop_words\n",
        "nlp = en_core_web_sm.load()"
      ],
      "execution_count": null,
      "outputs": [
        {
          "output_type": "stream",
          "text": [
            "C:\\Users\\nitki\\AppData\\Local\\conda\\conda\\envs\\py36\\lib\\site-packages\\gensim\\utils.py:1197: UserWarning: detected Windows; aliasing chunkize to chunkize_serial\n",
            "  warnings.warn(\"detected Windows; aliasing chunkize to chunkize_serial\")\n"
          ],
          "name": "stderr"
        }
      ]
    },
    {
      "cell_type": "code",
      "metadata": {
        "id": "YqFqpGvvYhgd"
      },
      "source": [
        "t = pd.read_csv('bank4.csv',low_memory=False,encoding = 'latin1')\n",
        "pp = pd.read_csv('preprocess.csv',low_memory=False)"
      ],
      "execution_count": null,
      "outputs": []
    },
    {
      "cell_type": "code",
      "metadata": {
        "id": "ZnBm7oYIYhgd"
      },
      "source": [
        "folder =\"\"\n",
        "folder_mod =\"\""
      ],
      "execution_count": null,
      "outputs": []
    },
    {
      "cell_type": "code",
      "metadata": {
        "id": "EmmpyJ6VYhge",
        "outputId": "46564dd9-75ad-415e-a8ac-b047082965a6"
      },
      "source": [
        "folder_mod"
      ],
      "execution_count": null,
      "outputs": [
        {
          "output_type": "execute_result",
          "data": {
            "text/plain": [
              "''"
            ]
          },
          "metadata": {
            "tags": []
          },
          "execution_count": 4
        }
      ]
    },
    {
      "cell_type": "code",
      "metadata": {
        "id": "K8g51EKbYhge",
        "outputId": "2f87f6d2-b977-46f9-c62a-df316063c587"
      },
      "source": [
        "t.head()"
      ],
      "execution_count": null,
      "outputs": [
        {
          "output_type": "execute_result",
          "data": {
            "text/html": [
              "<div>\n",
              "<style scoped>\n",
              "    .dataframe tbody tr th:only-of-type {\n",
              "        vertical-align: middle;\n",
              "    }\n",
              "\n",
              "    .dataframe tbody tr th {\n",
              "        vertical-align: top;\n",
              "    }\n",
              "\n",
              "    .dataframe thead th {\n",
              "        text-align: right;\n",
              "    }\n",
              "</style>\n",
              "<table border=\"1\" class=\"dataframe\">\n",
              "  <thead>\n",
              "    <tr style=\"text-align: right;\">\n",
              "      <th></th>\n",
              "      <th>Line</th>\n",
              "      <th>Final intent</th>\n",
              "    </tr>\n",
              "  </thead>\n",
              "  <tbody>\n",
              "    <tr>\n",
              "      <th>0</th>\n",
              "      <td>Hi</td>\n",
              "      <td>greetings</td>\n",
              "    </tr>\n",
              "    <tr>\n",
              "      <th>1</th>\n",
              "      <td>Hi. My  name is</td>\n",
              "      <td>greetings</td>\n",
              "    </tr>\n",
              "    <tr>\n",
              "      <th>2</th>\n",
              "      <td>I am facing issues with my credit card</td>\n",
              "      <td>others</td>\n",
              "    </tr>\n",
              "    <tr>\n",
              "      <th>3</th>\n",
              "      <td>please help waive my annual membership</td>\n",
              "      <td>Annual Fee Reversal</td>\n",
              "    </tr>\n",
              "    <tr>\n",
              "      <th>4</th>\n",
              "      <td>please reverse my annual charges</td>\n",
              "      <td>Annual Fee Reversal</td>\n",
              "    </tr>\n",
              "  </tbody>\n",
              "</table>\n",
              "</div>"
            ],
            "text/plain": [
              "                                      Line         Final intent\n",
              "0                                       Hi            greetings\n",
              "1                         Hi. My  name is             greetings\n",
              "2   I am facing issues with my credit card               others\n",
              "3  please help waive my annual membership   Annual Fee Reversal\n",
              "4        please reverse my annual charges   Annual Fee Reversal"
            ]
          },
          "metadata": {
            "tags": []
          },
          "execution_count": 5
        }
      ]
    },
    {
      "cell_type": "code",
      "metadata": {
        "id": "AzkJX1VKYhgf"
      },
      "source": [
        "t.columns = [\"line\",\"class1\"]"
      ],
      "execution_count": null,
      "outputs": []
    },
    {
      "cell_type": "code",
      "metadata": {
        "id": "an-t8DdlYhgf",
        "outputId": "21f05830-f6f8-4862-a9df-f43d38ebd757"
      },
      "source": [
        "t['numw'] = t.line.str.count(\" \")+1\n",
        "#t5=t_sup1.ix[t_sup1.numw>=3,:]\n",
        "t['class1'].value_counts()"
      ],
      "execution_count": null,
      "outputs": [
        {
          "output_type": "execute_result",
          "data": {
            "text/plain": [
              "greetings               1525\n",
              "Foreign Travel           700\n",
              "Card Delivery            600\n",
              "Report Fraud             600\n",
              "branch_atm_locator       550\n",
              "Track application        450\n",
              "Credit Limit related     400\n",
              "Pin related              400\n",
              "Card Cancellation        350\n",
              "Card Activation          350\n",
              "Blocked Card             350\n",
              "Payment related          300\n",
              "others                   227\n",
              "Annual Fee Reversal      150\n",
              "Statement related        150\n",
              "Name: class1, dtype: int64"
            ]
          },
          "metadata": {
            "tags": []
          },
          "execution_count": 7
        }
      ]
    },
    {
      "cell_type": "code",
      "metadata": {
        "id": "d6plX4vtYhgf"
      },
      "source": [
        "cols = [\"line\",\"class1\"]\n",
        "newdf = pd.DataFrame(columns = cols )\n",
        "newcnts = pd.DataFrame(t[\"class1\"].value_counts()).reset_index()\n",
        "newcnts.columns = [\"labels\",\"counts\"]"
      ],
      "execution_count": null,
      "outputs": []
    },
    {
      "cell_type": "code",
      "metadata": {
        "id": "jTeS5Gj9Yhgg",
        "outputId": "ac1f99ed-94e9-4ccf-c7da-d2a61b62399d"
      },
      "source": [
        "newcnts"
      ],
      "execution_count": null,
      "outputs": [
        {
          "output_type": "execute_result",
          "data": {
            "text/html": [
              "<div>\n",
              "<style scoped>\n",
              "    .dataframe tbody tr th:only-of-type {\n",
              "        vertical-align: middle;\n",
              "    }\n",
              "\n",
              "    .dataframe tbody tr th {\n",
              "        vertical-align: top;\n",
              "    }\n",
              "\n",
              "    .dataframe thead th {\n",
              "        text-align: right;\n",
              "    }\n",
              "</style>\n",
              "<table border=\"1\" class=\"dataframe\">\n",
              "  <thead>\n",
              "    <tr style=\"text-align: right;\">\n",
              "      <th></th>\n",
              "      <th>labels</th>\n",
              "      <th>counts</th>\n",
              "    </tr>\n",
              "  </thead>\n",
              "  <tbody>\n",
              "    <tr>\n",
              "      <th>0</th>\n",
              "      <td>greetings</td>\n",
              "      <td>1525</td>\n",
              "    </tr>\n",
              "    <tr>\n",
              "      <th>1</th>\n",
              "      <td>Foreign Travel</td>\n",
              "      <td>700</td>\n",
              "    </tr>\n",
              "    <tr>\n",
              "      <th>2</th>\n",
              "      <td>Card Delivery</td>\n",
              "      <td>600</td>\n",
              "    </tr>\n",
              "    <tr>\n",
              "      <th>3</th>\n",
              "      <td>Report Fraud</td>\n",
              "      <td>600</td>\n",
              "    </tr>\n",
              "    <tr>\n",
              "      <th>4</th>\n",
              "      <td>branch_atm_locator</td>\n",
              "      <td>550</td>\n",
              "    </tr>\n",
              "    <tr>\n",
              "      <th>5</th>\n",
              "      <td>Track application</td>\n",
              "      <td>450</td>\n",
              "    </tr>\n",
              "    <tr>\n",
              "      <th>6</th>\n",
              "      <td>Credit Limit related</td>\n",
              "      <td>400</td>\n",
              "    </tr>\n",
              "    <tr>\n",
              "      <th>7</th>\n",
              "      <td>Pin related</td>\n",
              "      <td>400</td>\n",
              "    </tr>\n",
              "    <tr>\n",
              "      <th>8</th>\n",
              "      <td>Card Cancellation</td>\n",
              "      <td>350</td>\n",
              "    </tr>\n",
              "    <tr>\n",
              "      <th>9</th>\n",
              "      <td>Card Activation</td>\n",
              "      <td>350</td>\n",
              "    </tr>\n",
              "    <tr>\n",
              "      <th>10</th>\n",
              "      <td>Blocked Card</td>\n",
              "      <td>350</td>\n",
              "    </tr>\n",
              "    <tr>\n",
              "      <th>11</th>\n",
              "      <td>Payment related</td>\n",
              "      <td>300</td>\n",
              "    </tr>\n",
              "    <tr>\n",
              "      <th>12</th>\n",
              "      <td>others</td>\n",
              "      <td>227</td>\n",
              "    </tr>\n",
              "    <tr>\n",
              "      <th>13</th>\n",
              "      <td>Annual Fee Reversal</td>\n",
              "      <td>150</td>\n",
              "    </tr>\n",
              "    <tr>\n",
              "      <th>14</th>\n",
              "      <td>Statement related</td>\n",
              "      <td>150</td>\n",
              "    </tr>\n",
              "  </tbody>\n",
              "</table>\n",
              "</div>"
            ],
            "text/plain": [
              "                  labels  counts\n",
              "0              greetings    1525\n",
              "1         Foreign Travel     700\n",
              "2          Card Delivery     600\n",
              "3           Report Fraud     600\n",
              "4     branch_atm_locator     550\n",
              "5      Track application     450\n",
              "6   Credit Limit related     400\n",
              "7            Pin related     400\n",
              "8      Card Cancellation     350\n",
              "9        Card Activation     350\n",
              "10          Blocked Card     350\n",
              "11       Payment related     300\n",
              "12                others     227\n",
              "13   Annual Fee Reversal     150\n",
              "14     Statement related     150"
            ]
          },
          "metadata": {
            "tags": []
          },
          "execution_count": 9
        }
      ]
    },
    {
      "cell_type": "code",
      "metadata": {
        "id": "tIEINl8XYhgg"
      },
      "source": [
        "t1 = pd.merge(t,newcnts,left_on=\"class1\",right_on = \"labels\",how=\"inner\")"
      ],
      "execution_count": null,
      "outputs": []
    },
    {
      "cell_type": "code",
      "metadata": {
        "id": "zKkqaiGJYhgh",
        "outputId": "116d0be4-ee65-4c6b-eeb9-b42ee7a2981c"
      },
      "source": [
        "t2 = t1.ix[t1.counts>=5,:]"
      ],
      "execution_count": null,
      "outputs": [
        {
          "output_type": "stream",
          "text": [
            "C:\\Users\\nitki\\AppData\\Local\\conda\\conda\\envs\\py36\\lib\\site-packages\\ipykernel\\__main__.py:1: DeprecationWarning: \n",
            ".ix is deprecated. Please use\n",
            ".loc for label based indexing or\n",
            ".iloc for positional indexing\n",
            "\n",
            "See the documentation here:\n",
            "http://pandas.pydata.org/pandas-docs/stable/indexing.html#ix-indexer-is-deprecated\n",
            "  if __name__ == '__main__':\n"
          ],
          "name": "stderr"
        }
      ]
    },
    {
      "cell_type": "code",
      "metadata": {
        "id": "v3i2qlprYhgh",
        "outputId": "a56d3eb2-edd0-44bf-8f01-cc1058290afb"
      },
      "source": [
        "min1=400\n",
        "for index,row in newcnts.iterrows():\n",
        "    lbl = row[\"labels\"]\n",
        "    if row[\"counts\"] >=min1:\n",
        "        sset = t2.ix[t2.class1==lbl,cols]\n",
        "        newdf = pd.concat([newdf,sset.sample(n=min1)])\n",
        "        \n",
        "    else:\n",
        "        num_times = min1/row[\"counts\"]\n",
        "        \n",
        "        #row[\"counts\"]/min1\n",
        "        for j in range(0,num_times):\n",
        "            sset = t2.ix[t2.class1==lbl,cols]\n",
        "            newdf = pd.concat([newdf,sset])"
      ],
      "execution_count": null,
      "outputs": [
        {
          "output_type": "stream",
          "text": [
            "C:\\Users\\nitki\\AppData\\Local\\conda\\conda\\envs\\py36\\lib\\site-packages\\ipykernel\\__main__.py:5: DeprecationWarning: \n",
            ".ix is deprecated. Please use\n",
            ".loc for label based indexing or\n",
            ".iloc for positional indexing\n",
            "\n",
            "See the documentation here:\n",
            "http://pandas.pydata.org/pandas-docs/stable/indexing.html#ix-indexer-is-deprecated\n"
          ],
          "name": "stderr"
        }
      ]
    },
    {
      "cell_type": "code",
      "metadata": {
        "id": "xfNZcVvNYhgh",
        "outputId": "a8defc3a-f11f-4a34-f915-656f29f0b5d4"
      },
      "source": [
        "newdf.ix[:,\"class1\"]=newdf[\"class1\"].str.lstrip()\n",
        "newdf.ix[:,\"class1\"]=newdf[\"class1\"].str.rstrip()\n",
        "newdf.ix[:,\"class1\"]=newdf[\"class1\"].str.lower()\n",
        "\n",
        "#print t5[\"Tags\"].str.lower()\n",
        "newdf['class1'].value_counts()"
      ],
      "execution_count": null,
      "outputs": [
        {
          "output_type": "stream",
          "text": [
            "C:\\Users\\nitki\\AppData\\Local\\conda\\conda\\envs\\py36\\lib\\site-packages\\ipykernel\\__main__.py:1: DeprecationWarning: \n",
            ".ix is deprecated. Please use\n",
            ".loc for label based indexing or\n",
            ".iloc for positional indexing\n",
            "\n",
            "See the documentation here:\n",
            "http://pandas.pydata.org/pandas-docs/stable/indexing.html#ix-indexer-is-deprecated\n",
            "  if __name__ == '__main__':\n"
          ],
          "name": "stderr"
        },
        {
          "output_type": "execute_result",
          "data": {
            "text/plain": [
              "report fraud            400\n",
              "card delivery           400\n",
              "foreign travel          400\n",
              "branch_atm_locator      400\n",
              "pin related             400\n",
              "track application       400\n",
              "greetings               400\n",
              "credit limit related    400\n",
              "blocked card            350\n",
              "card cancellation       350\n",
              "card activation         350\n",
              "annual fee reversal     300\n",
              "statement related       300\n",
              "payment related         300\n",
              "others                  227\n",
              "Name: class1, dtype: int64"
            ]
          },
          "metadata": {
            "tags": []
          },
          "execution_count": 13
        }
      ]
    },
    {
      "cell_type": "code",
      "metadata": {
        "id": "IOEsj9KVYhgi",
        "outputId": "acf6a050-8587-44c3-809b-b3cdc3cd91f2"
      },
      "source": [
        "newdf.head()"
      ],
      "execution_count": null,
      "outputs": [
        {
          "output_type": "execute_result",
          "data": {
            "text/html": [
              "<div>\n",
              "<style scoped>\n",
              "    .dataframe tbody tr th:only-of-type {\n",
              "        vertical-align: middle;\n",
              "    }\n",
              "\n",
              "    .dataframe tbody tr th {\n",
              "        vertical-align: top;\n",
              "    }\n",
              "\n",
              "    .dataframe thead th {\n",
              "        text-align: right;\n",
              "    }\n",
              "</style>\n",
              "<table border=\"1\" class=\"dataframe\">\n",
              "  <thead>\n",
              "    <tr style=\"text-align: right;\">\n",
              "      <th></th>\n",
              "      <th>line</th>\n",
              "      <th>class1</th>\n",
              "    </tr>\n",
              "  </thead>\n",
              "  <tbody>\n",
              "    <tr>\n",
              "      <th>209</th>\n",
              "      <td>hey phone number is 6200122990</td>\n",
              "      <td>greetings</td>\n",
              "    </tr>\n",
              "    <tr>\n",
              "      <th>1291</th>\n",
              "      <td>goodmorning cell number 9334973609</td>\n",
              "      <td>greetings</td>\n",
              "    </tr>\n",
              "    <tr>\n",
              "      <th>965</th>\n",
              "      <td>good afternoon phone number is 1426749385</td>\n",
              "      <td>greetings</td>\n",
              "    </tr>\n",
              "    <tr>\n",
              "      <th>1213</th>\n",
              "      <td>hello madam my number is 919134590508</td>\n",
              "      <td>greetings</td>\n",
              "    </tr>\n",
              "    <tr>\n",
              "      <th>343</th>\n",
              "      <td>hello sir cell number 8763674117</td>\n",
              "      <td>greetings</td>\n",
              "    </tr>\n",
              "  </tbody>\n",
              "</table>\n",
              "</div>"
            ],
            "text/plain": [
              "                                           line     class1\n",
              "209              hey phone number is 6200122990  greetings\n",
              "1291         goodmorning cell number 9334973609  greetings\n",
              "965   good afternoon phone number is 1426749385  greetings\n",
              "1213      hello madam my number is 919134590508  greetings\n",
              "343            hello sir cell number 8763674117  greetings"
            ]
          },
          "metadata": {
            "tags": []
          },
          "execution_count": 14
        }
      ]
    },
    {
      "cell_type": "code",
      "metadata": {
        "id": "embrPDFXYhgi"
      },
      "source": [
        "def add_len(newstr):\n",
        "    ch_len = len(newstr)\n",
        "    w_len = newstr.count(\" \") +1 \n",
        "    \n",
        "    if(ch_len<=5):\n",
        "        cl_bkt = \"buck_0-5\"\n",
        "    \n",
        "    elif(ch_len<=10):\n",
        "        cl_bkt = \"buck_5-10\"\n",
        "    \n",
        "    \n",
        "    elif(ch_len<=20):\n",
        "        cl_bkt = \"buck_10-20\"\n",
        "    \n",
        "    elif(ch_len<=30):\n",
        "        cl_bkt = \"buck_20-30\"\n",
        "    else:\n",
        "        cl_bkt = \"long\"\n",
        "    \n",
        "    if(w_len<=1):\n",
        "        w_bkt = \"bkt_single\"\n",
        "    elif(w_len<=3):\n",
        "        w_bkt = \"bkt_short\"\n",
        "    elif(w_len<=7):\n",
        "        w_bkt = \"bkt_medium\"\n",
        "    elif(w_len<=10):\n",
        "        w_bkt = \"bkt_long\"\n",
        "    else:\n",
        "        w_bkt = \"bkt_very_long\"\n",
        "    \n",
        "    return cl_bkt,w_bkt"
      ],
      "execution_count": null,
      "outputs": []
    },
    {
      "cell_type": "code",
      "metadata": {
        "id": "DLy74ptJYhgi"
      },
      "source": [
        "def ext_nn(l1):\n",
        "    str1 = \"\"\n",
        "    doc5 = nlp(unicode(l1))\n",
        "    for np in doc5.noun_chunks:\n",
        "        str1 = str1 + \" \" + str(np)\n",
        "        #print np\n",
        "    return str1\n",
        "        "
      ],
      "execution_count": null,
      "outputs": []
    },
    {
      "cell_type": "code",
      "metadata": {
        "id": "t7ueNdkfYhgj",
        "outputId": "e0ec8d7b-92e1-4a84-dfee-8d7b62781521"
      },
      "source": [
        "ext_nn(\"please activate my card\")"
      ],
      "execution_count": null,
      "outputs": [
        {
          "output_type": "execute_result",
          "data": {
            "text/plain": [
              "' my card'"
            ]
          },
          "metadata": {
            "tags": []
          },
          "execution_count": 17
        }
      ]
    },
    {
      "cell_type": "code",
      "metadata": {
        "id": "LEBgHB3jYhgj",
        "outputId": "a2aa9edc-983c-431c-d36f-e502a34a88e4"
      },
      "source": [
        "str1 = \"i am good\"\n",
        "doc1 = nlp(unicode(str1))\n",
        "for i in doc1:\n",
        "    print np.sum(i.vector),i.vector_norm\n",
        "print \"doc\",doc1.vector_norm,doc1.vector.shape"
      ],
      "execution_count": null,
      "outputs": [
        {
          "output_type": "stream",
          "text": [
            "0.7476568 24.211834\n",
            "10.486708 27.161102\n",
            "-2.7070062 24.949709\n",
            "doc 14.9734354153 (384L,)\n"
          ],
          "name": "stdout"
        }
      ]
    },
    {
      "cell_type": "code",
      "metadata": {
        "id": "OT9saa2_Yhgj"
      },
      "source": [
        "stp = stop_words.get_stop_words('en')"
      ],
      "execution_count": null,
      "outputs": []
    },
    {
      "cell_type": "code",
      "metadata": {
        "id": "TnHB6YyOYhgk",
        "outputId": "f6b55f17-2543-47fd-a508-5eab9437e6ef"
      },
      "source": [
        "\n",
        "for i in str1.split():\n",
        "    if(i not in set(stp)):\n",
        "        print i"
      ],
      "execution_count": null,
      "outputs": [
        {
          "output_type": "stream",
          "text": [
            "good\n"
          ],
          "name": "stdout"
        }
      ]
    },
    {
      "cell_type": "code",
      "metadata": {
        "id": "NDBX19LlYhgk"
      },
      "source": [
        "import re\n",
        "def preprocess(l1):\n",
        "    nns = ext_nn(l1)\n",
        "    newstr=[]\n",
        "    \n",
        "    l1=l1.replace(\"inr\",\"rs\")\n",
        "    l1=l1.replace(\"\\r\",\" \")\n",
        "    l1=l1.replace(\"\\n\",\" \")\n",
        "    l1=re.sub('[\\s]+,',\" \",l1)\n",
        "    l1=re.sub('http[0-9A-Za-z:\\/\\/\\.\\?\\=]*',' url_pp ',l1)\n",
        "    l1=re.sub('[0-9]+\\/[0-9]+\\/[0-9]+',' date_pp ',l1)\n",
        "    l1=re.sub('91[7-9][0-9]{9}', ' mobile_pp ', l1)\n",
        "    l1=re.sub('[7-9][0-9]{9}', ' mobile_pp ', l1)\n",
        "    \n",
        "    #patterns for landline numbers\n",
        "    \n",
        "    \n",
        "    l1=re.sub('[0-9]+%', ' digits_percent_pp ', l1)\n",
        "    l1=re.sub('[0-9]+th', ' digits_th_pp ', l1)\n",
        "    l1= re.sub('rs[., ]*[0-9]+[,.]?[0-9]+[,.]?[0-9]+[,.]?[0-9]+[,.]?',' money_digits_pp ',l1)\n",
        "    l1= re.sub('rs[., ]*[0-9]+',' money_digits_small_pp ',l1)\n",
        "    l1= re.sub('rs[., ]*[0-9]+',' money_digits_small_pp ',l1)\n",
        "    \n",
        "    #l1= re.sub('inr[., ]*[0-9]+[,.]?[0-9]+[,.]?[0-9]+[,.]?[0-9]+[,.]?','money_digits',l1)\n",
        "    l1 = re.sub('[0-9]+[x]+[0-9]*',' cardnum_pp ',l1)\n",
        "    l1 = re.sub('[x]+[0-9]+',' cardnum_pp ',l1)\n",
        "    l1 = re.sub('[0-9]{4,7}',' simp_digit_otp ',l1)\n",
        "    l1 = re.sub('[0-9]+',' simp_digit_pp ',l1)\n",
        "    l1=l1.replace(\"a/c\",\" ac_pp \")\n",
        "    l1= re.sub('[^a-z _]',' ',l1)\n",
        "    l1=re.sub('[\\s]+,',\" \",l1)\n",
        "    l1=re.sub('[^A-Za-z]+', ' ', l1)\n",
        "    for i in l1.split():\n",
        "        i = spell(i)\n",
        "        fg=0\n",
        "        for index,rows in pp.iterrows():\n",
        "            w=rows[\"word\"]\n",
        "            c=rows[\"class\"]\n",
        "            w=w.lower().lstrip().rstrip()\n",
        "            if(i==w):\n",
        "                newstr.append(c)\n",
        "                fg=1\n",
        "                break;\n",
        "        if(fg==0):\n",
        "            newstr.append(i)\n",
        "    newstr=' '.join(newstr)\n",
        "    \n",
        "    #l1,w1 = add_len(newstr)\n",
        "    \n",
        "    nns = re.sub('[^a-zA-Z0-9\\s]+','',nns)\n",
        "    \n",
        "    #print nns\n",
        "    \n",
        "    #newstr = newstr + l1 + \" \" + w1 + \" \" + unicode(nns)\n",
        "    newstr = newstr +\" \" + unicode(nns)\n",
        "    \n",
        "    newstr1 = \"\"\n",
        "    \n",
        "    for n in newstr.split():\n",
        "        if(n not in set(stp)):\n",
        "            newstr1 = newstr1 + \" \" + n\n",
        "    \n",
        "    \n",
        "    \n",
        "    return newstr1"
      ],
      "execution_count": null,
      "outputs": []
    },
    {
      "cell_type": "code",
      "metadata": {
        "id": "PWuc_TnhYhgk",
        "outputId": "dd5268e2-6c2c-4337-d4b2-4d7d507310f4"
      },
      "source": [
        "preprocess('please activate my card')"
      ],
      "execution_count": null,
      "outputs": [
        {
          "output_type": "execute_result",
          "data": {
            "text/plain": [
              "u' please activate cntry card card'"
            ]
          },
          "metadata": {
            "tags": []
          },
          "execution_count": 22
        }
      ]
    },
    {
      "cell_type": "code",
      "metadata": {
        "id": "htdnm2HcYhgl",
        "outputId": "ae7a01e3-4a53-4731-eb3d-fda1e55a9a5f"
      },
      "source": [
        "from nltk.stem.snowball import SnowballStemmer\n",
        "stemmer = SnowballStemmer(\"english\")\n",
        "stemmer2 = SnowballStemmer(\"english\", ignore_stopwords=True)\n",
        "ll=[]\n",
        "doc_ll = []\n",
        "newdf1=newdf.ix[:,\"line\"]\n",
        "for l1 in newdf1:\n",
        "    l1 = l1.lower()\n",
        "    #print l1\n",
        "    l1= preprocess(l1)\n",
        "    \n",
        "    doc1 = nlp(unicode(l1))\n",
        "    \n",
        "    d2v = doc1.vector\n",
        "    \n",
        "    doc_ll.append(d2v)\n",
        "    \n",
        "    #l1 =stemmer.stem(l1)\n",
        "    ll.append(l1)\n"
      ],
      "execution_count": null,
      "outputs": [
        {
          "output_type": "stream",
          "text": [
            "C:\\Users\\nitki\\AppData\\Local\\conda\\conda\\envs\\py36\\lib\\site-packages\\ipykernel\\__main__.py:40: UnicodeWarning: Unicode equal comparison failed to convert both arguments to Unicode - interpreting them as being unequal\n"
          ],
          "name": "stderr"
        }
      ]
    },
    {
      "cell_type": "code",
      "metadata": {
        "id": "Jw9OfC-NYhgl"
      },
      "source": [
        "doc_ll1 = np.array(doc_ll)"
      ],
      "execution_count": null,
      "outputs": []
    },
    {
      "cell_type": "code",
      "metadata": {
        "id": "LAqHj2hQYhgm",
        "outputId": "82958199-8d63-4c82-8730-90b8c2258777"
      },
      "source": [
        "doc_ll1.shape"
      ],
      "execution_count": null,
      "outputs": [
        {
          "output_type": "execute_result",
          "data": {
            "text/plain": [
              "(5277L, 384L)"
            ]
          },
          "metadata": {
            "tags": []
          },
          "execution_count": 26
        }
      ]
    },
    {
      "cell_type": "code",
      "metadata": {
        "id": "sSqfiArUYhgm",
        "outputId": "8c911c22-e782-4522-9416-1d14de9b453f"
      },
      "source": [
        "ll[0:5]"
      ],
      "execution_count": null,
      "outputs": [
        {
          "output_type": "execute_result",
          "data": {
            "text/plain": [
              "[u' goodmorning phone number mobile pp simp digit pp phone number',\n",
              " u' good morning simp digit top simp digit pp good morning',\n",
              " u' good morning number mobile pp simp digit pp good morning number',\n",
              " u' hi number mobile pp simp digit pp number',\n",
              " u' hello madam number mobile pp simp digit pp madam number']"
            ]
          },
          "metadata": {
            "tags": []
          },
          "execution_count": 27
        }
      ]
    },
    {
      "cell_type": "code",
      "metadata": {
        "id": "ScrkF7GAYhgm"
      },
      "source": [
        "newdf[\"pp\"]=ll\n",
        "newdf = newdf.reset_index()"
      ],
      "execution_count": null,
      "outputs": []
    },
    {
      "cell_type": "code",
      "metadata": {
        "id": "IyzX6-PxYhgm",
        "outputId": "ea973d93-caf2-443d-f215-04c60ad869c1"
      },
      "source": [
        "newdf.head()"
      ],
      "execution_count": null,
      "outputs": [
        {
          "output_type": "execute_result",
          "data": {
            "text/html": [
              "<div>\n",
              "<style scoped>\n",
              "    .dataframe tbody tr th:only-of-type {\n",
              "        vertical-align: middle;\n",
              "    }\n",
              "\n",
              "    .dataframe tbody tr th {\n",
              "        vertical-align: top;\n",
              "    }\n",
              "\n",
              "    .dataframe thead th {\n",
              "        text-align: right;\n",
              "    }\n",
              "</style>\n",
              "<table border=\"1\" class=\"dataframe\">\n",
              "  <thead>\n",
              "    <tr style=\"text-align: right;\">\n",
              "      <th></th>\n",
              "      <th>index</th>\n",
              "      <th>line</th>\n",
              "      <th>class1</th>\n",
              "      <th>pp</th>\n",
              "    </tr>\n",
              "  </thead>\n",
              "  <tbody>\n",
              "    <tr>\n",
              "      <th>0</th>\n",
              "      <td>714</td>\n",
              "      <td>goodmorning phone number 916383697186</td>\n",
              "      <td>greetings</td>\n",
              "      <td>goodmorning phone number mobile pp simp digit...</td>\n",
              "    </tr>\n",
              "    <tr>\n",
              "      <th>1</th>\n",
              "      <td>1248</td>\n",
              "      <td>good morning 1860452650</td>\n",
              "      <td>greetings</td>\n",
              "      <td>good morning simp digit top simp digit pp goo...</td>\n",
              "    </tr>\n",
              "    <tr>\n",
              "      <th>2</th>\n",
              "      <td>1096</td>\n",
              "      <td>good morning here is my number 916962636607</td>\n",
              "      <td>greetings</td>\n",
              "      <td>good morning number mobile pp simp digit pp g...</td>\n",
              "    </tr>\n",
              "    <tr>\n",
              "      <th>3</th>\n",
              "      <td>472</td>\n",
              "      <td>hi here is my number 912680305549</td>\n",
              "      <td>greetings</td>\n",
              "      <td>hi number mobile pp simp digit pp number</td>\n",
              "    </tr>\n",
              "    <tr>\n",
              "      <th>4</th>\n",
              "      <td>784</td>\n",
              "      <td>hello madam here is my number 913620149662</td>\n",
              "      <td>greetings</td>\n",
              "      <td>hello madam number mobile pp simp digit pp ma...</td>\n",
              "    </tr>\n",
              "  </tbody>\n",
              "</table>\n",
              "</div>"
            ],
            "text/plain": [
              "   index                                         line     class1  \\\n",
              "0    714        goodmorning phone number 916383697186  greetings   \n",
              "1   1248                      good morning 1860452650  greetings   \n",
              "2   1096  good morning here is my number 916962636607  greetings   \n",
              "3    472            hi here is my number 912680305549  greetings   \n",
              "4    784   hello madam here is my number 913620149662  greetings   \n",
              "\n",
              "                                                  pp  \n",
              "0   goodmorning phone number mobile pp simp digit...  \n",
              "1   good morning simp digit top simp digit pp goo...  \n",
              "2   good morning number mobile pp simp digit pp g...  \n",
              "3           hi number mobile pp simp digit pp number  \n",
              "4   hello madam number mobile pp simp digit pp ma...  "
            ]
          },
          "metadata": {
            "tags": []
          },
          "execution_count": 29
        }
      ]
    },
    {
      "cell_type": "code",
      "metadata": {
        "id": "IKfN6PyNYhgn"
      },
      "source": [
        "tgt3=newdf['class1']"
      ],
      "execution_count": null,
      "outputs": []
    },
    {
      "cell_type": "code",
      "metadata": {
        "id": "RJ7FQlcLYhgo",
        "outputId": "e6b7f3b5-5db2-4fbe-af23-5d41448bba7c"
      },
      "source": [
        "from sklearn.cross_validation import StratifiedShuffleSplit\n",
        "sss = StratifiedShuffleSplit(tgt3, 1, test_size=0.2,random_state=42)\n",
        "for train_index,test_index in sss:\n",
        "    train_index = train_index\n",
        "    test_index = test_index"
      ],
      "execution_count": null,
      "outputs": [
        {
          "output_type": "stream",
          "text": [
            "C:\\Users\\nitki\\AppData\\Local\\conda\\conda\\envs\\py36\\lib\\site-packages\\sklearn\\cross_validation.py:41: DeprecationWarning: This module was deprecated in version 0.18 in favor of the model_selection module into which all the refactored classes and functions are moved. Also note that the interface of the new CV iterators are different from that of this module. This module will be removed in 0.20.\n",
            "  \"This module will be removed in 0.20.\", DeprecationWarning)\n"
          ],
          "name": "stderr"
        }
      ]
    },
    {
      "cell_type": "code",
      "metadata": {
        "id": "cUNKKK0dYhgo",
        "outputId": "ee48c8c0-6531-4fa2-cff8-ae234dd5f30e"
      },
      "source": [
        "ll = list(newdf.ix[train_index,\"pp\"])\n",
        "ll_test = list(newdf.ix[test_index,\"pp\"])\n"
      ],
      "execution_count": null,
      "outputs": [
        {
          "output_type": "stream",
          "text": [
            "C:\\Users\\nitki\\AppData\\Local\\conda\\conda\\envs\\py36\\lib\\site-packages\\ipykernel_launcher.py:1: DeprecationWarning: \n",
            ".ix is deprecated. Please use\n",
            ".loc for label based indexing or\n",
            ".iloc for positional indexing\n",
            "\n",
            "See the documentation here:\n",
            "http://pandas.pydata.org/pandas-docs/stable/indexing.html#ix-indexer-is-deprecated\n",
            "  \"\"\"Entry point for launching an IPython kernel.\n"
          ],
          "name": "stderr"
        }
      ]
    },
    {
      "cell_type": "code",
      "metadata": {
        "id": "ZKrcUynrYhgp",
        "outputId": "828d2da6-eb3e-4d76-b3c9-a7fc7ebce17e"
      },
      "source": [
        "doc_ll_train = doc_ll1[train_index]\n",
        "print doc_ll_train.shape\n",
        "doc_ll_test = doc_ll1[test_index]\n",
        "print doc_ll_test.shape"
      ],
      "execution_count": null,
      "outputs": [
        {
          "output_type": "stream",
          "text": [
            "(4221L, 384L)\n",
            "(1056L, 384L)\n"
          ],
          "name": "stdout"
        }
      ]
    },
    {
      "cell_type": "code",
      "metadata": {
        "id": "lAiLyep7Yhgp"
      },
      "source": [
        "ll1 = []\n",
        "for i in ll:\n",
        "    ll1.append(i.split())\n",
        "    "
      ],
      "execution_count": null,
      "outputs": []
    },
    {
      "cell_type": "code",
      "metadata": {
        "id": "gQshKeU4Yhgp"
      },
      "source": [
        "ll1_test = []\n",
        "for i in ll_test:\n",
        "    ll1_test.append(i.split())\n",
        "    "
      ],
      "execution_count": null,
      "outputs": []
    },
    {
      "cell_type": "code",
      "metadata": {
        "id": "nJvZsEKvYhgp"
      },
      "source": [
        "dictionary = corpora.Dictionary(ll1)\n",
        "dictionary.filter_extremes(no_below=20, no_above=0.5)\n",
        "\n",
        "corpus = [dictionary.doc2bow(i) for i in ll1]\n",
        "ldamodel = gensim.models.ldamodel.LdaModel(corpus, num_topics=30, id2word = dictionary, passes=5,chunksize=100)\n",
        "\n",
        "\n",
        "corpus1 = ldamodel.get_document_topics(corpus, minimum_probability=None, minimum_phi_value=None, per_word_topics=False)\n",
        "\n",
        "\n",
        "corpus_test = [dictionary.doc2bow(i) for i in ll1_test]\n",
        "corpus1_test = ldamodel.get_document_topics(corpus_test, minimum_probability=None, minimum_phi_value=None, per_word_topics=False)"
      ],
      "execution_count": null,
      "outputs": []
    },
    {
      "cell_type": "code",
      "metadata": {
        "id": "iuXeuGgdYhgq"
      },
      "source": [
        "num_topics = ldamodel.num_topics"
      ],
      "execution_count": null,
      "outputs": []
    },
    {
      "cell_type": "code",
      "metadata": {
        "id": "0yb5o5IWYhgq"
      },
      "source": [
        "arr1 = np.zeros([len(ll1),num_topics-1])\n",
        "arr1_test = np.zeros([len(ll1_test),num_topics-1])"
      ],
      "execution_count": null,
      "outputs": []
    },
    {
      "cell_type": "code",
      "metadata": {
        "id": "es94AGr1Yhgq",
        "outputId": "163978a8-443a-4414-e718-3b1ce3479f69"
      },
      "source": [
        "arr1.shape"
      ],
      "execution_count": null,
      "outputs": [
        {
          "output_type": "execute_result",
          "data": {
            "text/plain": [
              "(4221L, 29L)"
            ]
          },
          "metadata": {
            "tags": []
          },
          "execution_count": 39
        }
      ]
    },
    {
      "cell_type": "markdown",
      "metadata": {
        "collapsed": true,
        "id": "2kw-A4MCYhgq"
      },
      "source": [
        "ind=-1\n",
        "for i in corpus1:\n",
        "    ind=ind+1\n",
        "    for j in i:\n",
        "        for k in range(0,29):\n",
        "            if(j[0]==k):\n",
        "                #print \"yes\"\n",
        "                arr1[ind][k]=j[1]\n",
        "                break;\n",
        "ind=-1\n",
        "for i in corpus1_test:\n",
        "    ind=ind+1\n",
        "    for j in i:\n",
        "        for k in range(0,29):\n",
        "            if(j[0]==k):\n",
        "                #print \"yes\"\n",
        "                arr1_test[ind][k]=j[1]\n",
        "                break;\n",
        "               \n",
        "        "
      ]
    },
    {
      "cell_type": "code",
      "metadata": {
        "id": "GCggL-lgYhgq",
        "outputId": "f98fe2fc-b575-4099-8f4e-8e0dffd9dfb2"
      },
      "source": [
        "arr1[0]"
      ],
      "execution_count": null,
      "outputs": [
        {
          "output_type": "execute_result",
          "data": {
            "text/plain": [
              "array([0., 0., 0., 0., 0., 0., 0., 0., 0., 0., 0., 0., 0., 0., 0., 0., 0.,\n",
              "       0., 0., 0., 0., 0., 0., 0., 0., 0., 0., 0., 0.])"
            ]
          },
          "metadata": {
            "tags": []
          },
          "execution_count": 40
        }
      ]
    },
    {
      "cell_type": "code",
      "metadata": {
        "id": "Zbfn9PqlYhgr",
        "outputId": "ba39d4d5-9dfa-45b1-87fe-41acf7793c00"
      },
      "source": [
        "arr1_test[0]"
      ],
      "execution_count": null,
      "outputs": [
        {
          "output_type": "execute_result",
          "data": {
            "text/plain": [
              "array([0., 0., 0., 0., 0., 0., 0., 0., 0., 0., 0., 0., 0., 0., 0., 0., 0.,\n",
              "       0., 0., 0., 0., 0., 0., 0., 0., 0., 0., 0., 0.])"
            ]
          },
          "metadata": {
            "tags": []
          },
          "execution_count": 41
        }
      ]
    },
    {
      "cell_type": "code",
      "metadata": {
        "id": "BYucIYB4Yhgr",
        "outputId": "256ae054-a254-432f-9953-89c68fc52369"
      },
      "source": [
        "ll[0:50]"
      ],
      "execution_count": null,
      "outputs": [
        {
          "output_type": "execute_result",
          "data": {
            "text/plain": [
              "[u' simp digit pp weeks want know order status application 12 weeks order status application',\n",
              " u' paying URL website erred url website',\n",
              " u' ordered card last week card',\n",
              " u' please help complain wrong trans wrong trans',\n",
              " u' forgot atm pin atm pin',\n",
              " u' close atm machine located close atm machine',\n",
              " u' moving cancel account account',\n",
              " u' want complain going another country another country',\n",
              " u' trans failed trans',\n",
              " u' making payment simp digit top failed payment',\n",
              " u' waive annual membership annual membership',\n",
              " u' please creditcard personal index number creditcard personal index number',\n",
              " u' day received card can make work card',\n",
              " u' travelling cntry simp digit pp months can use card card',\n",
              " u' will receive credit card credit card',\n",
              " u' transaction go tranaction',\n",
              " u' can mail last year bill last year bill',\n",
              " u' please help credit card pin credit card pin',\n",
              " u' good evening number mobile pp good evening number',\n",
              " u' reach city bank atm citi bank atm',\n",
              " u' please send last month statement last month statement',\n",
              " u' nearest automated teller machine nearest automated teller machine',\n",
              " u' reach city atm citi atm',\n",
              " u' found transaction simp digit pp rs amazon fraud transaction 500 rs amazon fraud',\n",
              " u' can please help order status application order status appliction',\n",
              " u' help pin pin',\n",
              " u' hi cell number mobile pp simp digit pp hi cell number',\n",
              " u' want complaint going another country another country',\n",
              " u' want high available balance simp digit pp rs available balance',\n",
              " u' mobile pp simp digit pp number number',\n",
              " u' going outside europe europe',\n",
              " u' stop credit card credit card',\n",
              " u' please find nearest atm machine nearest atm machine',\n",
              " u' please provide credit card atm pin credit card atm pin',\n",
              " u' recently transaction failed credit card stopped transaction credit card',\n",
              " u' making payment simp digit top yen failed payment 5000 yen',\n",
              " u' forgot personal index number personal index number',\n",
              " u' please let know set alert travelling alert',\n",
              " u' moving cancel account account',\n",
              " u' help find near atm machine atm machine',\n",
              " u' set travel signal travel signal',\n",
              " u' hi mobile pp number',\n",
              " u' can please help email last year statement last year statement',\n",
              " u' want high credit limit simp digit pp credit limit',\n",
              " u' fraud never made trans fraud trans',\n",
              " u' can pin pin',\n",
              " u' will receive creditcard creditcard',\n",
              " u' credit card card want change bill cycle bill due date possible present bill cycle every month digits th pp will generate bill due date due date every month digits th pp salary will credit every month digits th pp want change bill due date credit card want change bill cycle bill due date bill cycle 14th due date salary 10th want change bill due date',\n",
              " u' recently tx go card stopped card',\n",
              " u' jkiupsgobh phone number mobile pp jkiupsgobh phone number']"
            ]
          },
          "metadata": {
            "tags": []
          },
          "execution_count": 42
        }
      ]
    },
    {
      "cell_type": "code",
      "metadata": {
        "id": "7BISYJEDYhgr",
        "outputId": "a5046472-e6e9-4741-a781-5ace983eca11"
      },
      "source": [
        "from sklearn.feature_extraction.text import TfidfVectorizer\n",
        "\n",
        "tfidf_vectorizer = TfidfVectorizer(min_df = 5,ngram_range=(1, 4),stop_words ='english')\n",
        "tfidf_matrix = tfidf_vectorizer.fit_transform(ll)\n",
        "\n",
        "tf1= tfidf_matrix.todense()\n",
        "\n",
        "tf1_test = tfidf_vectorizer.transform(ll_test)\n",
        "tf1_test=tf1_test.todense()\n",
        "len(tf1),tf1.shape,tf1_test.shape"
      ],
      "execution_count": null,
      "outputs": [
        {
          "output_type": "execute_result",
          "data": {
            "text/plain": [
              "(4221, (4221L, 2333L), (1056L, 2333L))"
            ]
          },
          "metadata": {
            "tags": []
          },
          "execution_count": 43
        }
      ]
    },
    {
      "cell_type": "code",
      "metadata": {
        "id": "RrOH99c7Yhgr",
        "outputId": "ea22615f-68c2-4d68-d40c-ffe68ff40624"
      },
      "source": [
        "tfidf_vectorizer.vocabulary_"
      ],
      "execution_count": null,
      "outputs": [
        {
          "output_type": "execute_result",
          "data": {
            "text/plain": [
              "{u'digit available balance': 683,\n",
              " u'past simp digit pp': 1552,\n",
              " u'rs wrong': 1844,\n",
              " u'mam mobile': 1320,\n",
              " u'machine proximate': 1269,\n",
              " u'status app': 2007,\n",
              " u'stopped charge': 2066,\n",
              " u'digit': 681,\n",
              " u'closest branch closest': 521,\n",
              " u'applied order status': 123,\n",
              " u'proximate citi bank': 1728,\n",
              " u'creditcard europe creditcard': 623,\n",
              " u'pp number number': 1682,\n",
              " u'simp digit card': 1944,\n",
              " u'card received': 364,\n",
              " u'card status': 372,\n",
              " u'88888 rupees': 32,\n",
              " u'weeks order status': 2293,\n",
              " u'proximity atm machine': 1733,\n",
              " u'let know set': 1219,\n",
              " u'frustrating cancel account account': 887,\n",
              " u'near cash': 1420,\n",
              " u'set travel alert travel': 1901,\n",
              " u'creditcard personal index': 639,\n",
              " u'mobile pp simp': 1353,\n",
              " u'citibank cash machine citibank': 454,\n",
              " u'increase credit credit': 1159,\n",
              " u'url website': 2186,\n",
              " u'status app order': 2008,\n",
              " u'good night number': 944,\n",
              " u'send month statement': 1876,\n",
              " u'locked': 1251,\n",
              " u'creditcard help creditcard': 629,\n",
              " u'digit pp weeks use': 749,\n",
              " u'want': 2211,\n",
              " u'pp day': 1632,\n",
              " u'credit card status': 591,\n",
              " u'travel': 2142,\n",
              " u'machine': 1253,\n",
              " u'haven obtained creditcard': 990,\n",
              " u'personal index number creditcard': 1594,\n",
              " u'payment url': 1581,\n",
              " u'status order status': 2043,\n",
              " u'wrong': 2306,\n",
              " u'gm phone': 904,\n",
              " u'sale simp digit rs': 1864,\n",
              " u'status app status app': 2011,\n",
              " u'make sale': 1292,\n",
              " u'fraudster transaction fraudster': 882,\n",
              " u'activating': 57,\n",
              " u'credit card months': 579,\n",
              " u'increase available balance simp': 1149,\n",
              " u'cash machine proximate': 387,\n",
              " u'status travel': 2045,\n",
              " u'failed making payment': 821,\n",
              " u'digit yen failed': 765,\n",
              " u'seen transaction simp digit': 1872,\n",
              " u'help creditcard': 1051,\n",
              " u'increase card limit simp': 1155,\n",
              " u'need help': 1447,\n",
              " u'rupees ebay': 1848,\n",
              " u'nearest automated': 1431,\n",
              " u'failed payment': 822,\n",
              " u'send month statement month': 1877,\n",
              " u'check order status application': 419,\n",
              " u'provide card atm': 1704,\n",
              " u'rs': 1839,\n",
              " u'waive': 2199,\n",
              " u'order status apply': 1524,\n",
              " u'digit pp day': 708,\n",
              " u'personal': 1590,\n",
              " u'tx 10000': 2175,\n",
              " u'atm': 143,\n",
              " u'month statement month statement': 1364,\n",
              " u'pp shuopizebx': 1688,\n",
              " u'nearest atm nearest': 1429,\n",
              " u'hi received credit': 1120,\n",
              " u'branch citi bank': 247,\n",
              " u'months use credit': 1378,\n",
              " u'country use': 552,\n",
              " u'atm pin credit card': 165,\n",
              " u'haven recd credit card': 993,\n",
              " u'digit pp card': 701,\n",
              " u'digit failed': 694,\n",
              " u'digit pp days recd': 713,\n",
              " u'status application status appliction': 2017,\n",
              " u'limited atm': 1240,\n",
              " u'make sure transaction': 1296,\n",
              " u'pin card card pin': 1610,\n",
              " u'creditcard order status': 636,\n",
              " u'want want report': 2279,\n",
              " u'want credit simp': 2236,\n",
              " u'citi bank limited': 442,\n",
              " u'related failure payment related': 1801,\n",
              " u'number personal index': 1500,\n",
              " u'alert nation alert': 72,\n",
              " u'failed charge': 814,\n",
              " u'branch close': 260,\n",
              " u'city branch branch citibank': 479,\n",
              " u'account': 40,\n",
              " u'ship past simp': 1919,\n",
              " u'mam cell number': 1319,\n",
              " u'complain going outside': 542,\n",
              " u'want report': 2269,\n",
              " u'credit card simp': 589,\n",
              " u'help remove annual charges': 1075,\n",
              " u'goodnight': 965,\n",
              " u'stop card card': 2057,\n",
              " u'creditcard pin': 641,\n",
              " u'bank automated': 199,\n",
              " u'provide card atm pin': 1705,\n",
              " u'months want': 1381,\n",
              " u'high available credit': 1128,\n",
              " u'card bank': 303,\n",
              " u'paying balance simp': 1557,\n",
              " u'country': 547,\n",
              " u'asked': 138,\n",
              " u'mobile pp cell': 1342,\n",
              " u'bank branch branch citi': 204,\n",
              " u'help card pin': 1045,\n",
              " u'past simp': 1550,\n",
              " u'travel alert travel': 2144,\n",
              " u'make work card': 1300,\n",
              " u'simp digit pp failed': 1965,\n",
              " u'payment error payment error': 1569,\n",
              " u'creditcard activate': 609,\n",
              " u'credit': 557,\n",
              " u'haven got': 986,\n",
              " u'want complain mischievous': 2227,\n",
              " u'send year': 1883,\n",
              " u'payment url website': 1584,\n",
              " u'making payment simp': 1309,\n",
              " u'travelling alert': 2156,\n",
              " u'limit limit': 1232,\n",
              " u'deactivated creditcard': 677,\n",
              " u'sale simp digit pp': 1863,\n",
              " u'credit card status credit': 592,\n",
              " u'card pin credit card': 363,\n",
              " u'sure': 2071,\n",
              " u'status appln': 2022,\n",
              " u'pp months': 1669,\n",
              " u'order status app': 1518,\n",
              " u'10000 rupees': 3,\n",
              " u'card pin card card': 360,\n",
              " u'going fore': 915,\n",
              " u'status apply': 2023,\n",
              " u'month month': 1360,\n",
              " u'proximate branch proximate': 1722,\n",
              " u'cancel creditcard': 292,\n",
              " u'digit rs failed': 756,\n",
              " u'let know set travel': 1221,\n",
              " u'pp weeks': 1692,\n",
              " u'just noticed': 1181,\n",
              " u'seen charge': 1867,\n",
              " u'atm proximate': 166,\n",
              " u'mischieveous charge': 1332,\n",
              " u'locked creditcard': 1252,\n",
              " u'obtained credit card': 1511,\n",
              " u'make work credit card': 1302,\n",
              " u'citibank cash machine': 453,\n",
              " u'help remove annual': 1074,\n",
              " u'city bank city': 470,\n",
              " u'simp digit pp cell': 1960,\n",
              " u'near branch': 1419,\n",
              " u'check status creditcard': 428,\n",
              " u'hi number simp digit': 1115,\n",
              " u'closest branch closest branch': 522,\n",
              " u'annual fees annual fees': 88,\n",
              " u'cancel card': 287,\n",
              " u'jkiupsgobh': 1179,\n",
              " u'help activation': 1033,\n",
              " u'transaction fraud': 2127,\n",
              " u'simp digit pp days': 1963,\n",
              " u'activating creditcard': 58,\n",
              " u'days want know': 669,\n",
              " u'digit pp hello': 724,\n",
              " u'city bank cash machine': 469,\n",
              " u'cash machine citibank cash': 385,\n",
              " u'hello sir mobile pp': 1021,\n",
              " u'day transaction': 653,\n",
              " u'increase available': 1146,\n",
              " u'card credit card': 316,\n",
              " u'index number personal': 1173,\n",
              " u'7000 rupees': 29,\n",
              " u'increase available credit': 1150,\n",
              " u'going fore country want': 917,\n",
              " u'3000 dollar': 11,\n",
              " u'know order status application': 1194,\n",
              " u'set status': 1894,\n",
              " u'want card': 2218,\n",
              " u'branch citibank citi': 253,\n",
              " u'hello mam number mobile': 1018,\n",
              " u'paying balance simp digit': 1558,\n",
              " u'5000 rupees': 24,\n",
              " u'weeks order': 2292,\n",
              " u'want nearest': 2265,\n",
              " u'trans simp digit': 2109,\n",
              " u'want credit card': 2231,\n",
              " u'frustrating close creditcard creditcard': 898,\n",
              " u'sale simp': 1861,\n",
              " u'let know status': 1223,\n",
              " u'help pin pin': 1069,\n",
              " u'number good': 1480,\n",
              " u'set travelling': 1908,\n",
              " u'wuuaamgtky simp digit simp': 2319,\n",
              " u'creditcard pin creditcard pin': 643,\n",
              " u'proximate atm proximate': 1716,\n",
              " u'nearest citi bank limited': 1441,\n",
              " u'card simp digit': 369,\n",
              " u'nation': 1408,\n",
              " u'want high credit': 2243,\n",
              " u'activation creditcard help activation': 64,\n",
              " u'help closest': 1048,\n",
              " u'revers': 1823,\n",
              " u'status application status application': 2016,\n",
              " u'order status application order': 1521,\n",
              " u'citi bank limited branch': 445,\n",
              " u'want want': 2277,\n",
              " u'ship past simp digit': 1920,\n",
              " u'making payment url': 1311,\n",
              " u'use credit card': 2195,\n",
              " u'close card': 492,\n",
              " u'pp cell number good': 1628,\n",
              " u'balance simp': 192,\n",
              " u'help pin': 1068,\n",
              " u'dbgirwlkgg': 670,\n",
              " u'digit pp months use': 738,\n",
              " u'recd card card': 1756,\n",
              " u'city': 460,\n",
              " u'revers annual charges annual': 1828,\n",
              " u'citi': 431,\n",
              " u'credit card received credit': 588,\n",
              " u'status order': 2042,\n",
              " u'know status card status': 1211,\n",
              " u'email past simp digit': 779,\n",
              " u'closest atm closest atm': 515,\n",
              " u'url failure': 2183,\n",
              " u'morning number mobile pp': 1387,\n",
              " u'88888 dollar': 31,\n",
              " u'digit credit limit': 689,\n",
              " u'vadodara': 2198,\n",
              " u'swipe swipe': 2083,\n",
              " u'nearest automated teller machine': 1433,\n",
              " u'order status app order': 1519,\n",
              " u'card personal': 355,\n",
              " u'sale': 1851,\n",
              " u'citibank atm': 448,\n",
              " u'payment web link': 1586,\n",
              " u'complain mischievous': 544,\n",
              " u'digit dollar failed': 692,\n",
              " u'fraud sale': 872,\n",
              " u'frustrating stop': 899,\n",
              " u'madam mobile pp': 1284,\n",
              " u'going': 906,\n",
              " u'nullify annual annual membership': 1466,\n",
              " u'kkpakjyofl simp digit simp': 1189,\n",
              " u'card months credit': 347,\n",
              " u'foreign country foreign': 855,\n",
              " u'want need complain': 2267,\n",
              " u'3000000 rupees': 16,\n",
              " u'atm machine nearest atm': 152,\n",
              " u'website error': 2285,\n",
              " u'card personal index': 356,\n",
              " u'night number simp digit': 1458,\n",
              " u'outside europe europe': 1544,\n",
              " u'hi number mobile pp': 1113,\n",
              " u'credit card': 560,\n",
              " u'3000': 10,\n",
              " u'day applied': 650,\n",
              " u'hello madam mobile': 1009,\n",
              " u'pin card': 1606,\n",
              " u'city bank atm': 463,\n",
              " u'travelling cntry': 2159,\n",
              " u'citibank city branch branch': 459,\n",
              " u'order status creditcard': 1530,\n",
              " u'failure payment related failure': 834,\n",
              " u'country foreign country': 551,\n",
              " u'days card': 660,\n",
              " u'order status appliction': 1522,\n",
              " u'report going outside': 1814,\n",
              " u'activate credit card': 49,\n",
              " u'card stopped card': 377,\n",
              " u'citibank citi branch': 456,\n",
              " u'bank card': 206,\n",
              " u'close card card': 495,\n",
              " u'88888': 30,\n",
              " u'creditcard make': 632,\n",
              " u'moving cancel card': 1395,\n",
              " u'digit pp months received': 736,\n",
              " u'foreign country foreign country': 856,\n",
              " u'haven received credit': 997,\n",
              " u'hi cell number': 1095,\n",
              " u'forgot pin pin': 868,\n",
              " u'erred payment': 789,\n",
              " u'5000 yen': 25,\n",
              " u'month statement month': 1363,\n",
              " u'creditcard creditcard': 618,\n",
              " u'going country country': 913,\n",
              " u'know set travelling': 1202,\n",
              " u'cancel annual fees': 283,\n",
              " u'hello madam number': 1011,\n",
              " u'digit pp month': 732,\n",
              " u'hi cell number mobile': 1096,\n",
              " u'hi phone': 1116,\n",
              " u'hi mobile pp': 1109,\n",
              " u'xeydzyqqxh': 2320,\n",
              " u'increase card limit card': 1154,\n",
              " u'transaction make': 2129,\n",
              " u'know status card': 1210,\n",
              " u'pp day applied': 1633,\n",
              " u'year statement showing': 2323,\n",
              " u'tx simp digit pp': 2179,\n",
              " u'annual annual membership': 81,\n",
              " u'travelling simp digit': 2167,\n",
              " u'payment simp digit failed': 1578,\n",
              " u'money': 1356,\n",
              " u'apply order': 132,\n",
              " u'card pin card': 359,\n",
              " u'failure balance': 830,\n",
              " u'help email': 1052,\n",
              " u'making payment related': 1308,\n",
              " u'cntry simp digit': 533,\n",
              " u'digit pp shuopizebx': 747,\n",
              " u'pp months received': 1671,\n",
              " u'card order status': 351,\n",
              " u'order status appln': 1523,\n",
              " u'fraudulent': 883,\n",
              " u'card atm': 299,\n",
              " u'provide credit': 1706,\n",
              " u'card help credit card': 332,\n",
              " u'make sure': 1293,\n",
              " u'account account': 41,\n",
              " u'transaction 10000': 2117,\n",
              " u'high credit credit': 1136,\n",
              " u'hello mam cell': 1013,\n",
              " u'gm phone number': 905,\n",
              " u'limit credit limit': 1231,\n",
              " u'country want': 554,\n",
              " u'cash': 382,\n",
              " u'past': 1547,\n",
              " u'bank limited atm': 225,\n",
              " u'goodevening simp digit simp': 955,\n",
              " u'days applied order': 658,\n",
              " u'card simp': 368,\n",
              " u'waive annual membership annual': 2208,\n",
              " u'digit pp number number': 742,\n",
              " u'revers annual membership': 1831,\n",
              " u'applied order': 122,\n",
              " u'atm pin card': 162,\n",
              " u'forgot atm': 858,\n",
              " u'atm closest atm': 149,\n",
              " u'set alert alert': 1889,\n",
              " u'pp available balance': 1623,\n",
              " u'app status': 97,\n",
              " u'status card': 2028,\n",
              " u'creditcard blocked': 615,\n",
              " u'ship simp digit pp': 1923,\n",
              " u'pp days use card': 1640,\n",
              " u'pp weeks want know': 1696,\n",
              " u'cntry': 527,\n",
              " u'trans wrong trans': 2115,\n",
              " u'send past simp': 1879,\n",
              " u'set travelling alert travelling': 1910,\n",
              " u'status appliction': 2018,\n",
              " u'rcocwhmcsz mobile': 1746,\n",
              " u'bank cash machine': 208,\n",
              " u'credit limit credit limit': 598,\n",
              " u'order status apply order': 1525,\n",
              " u'want complain mischief': 2226,\n",
              " u'tranaction 10000 yen': 2101,\n",
              " u'oblate': 1505,\n",
              " u'hello mam number': 1017,\n",
              " u'gm number': 903,\n",
              " u'help personal': 1065,\n",
              " u'available balance available': 179,\n",
              " u'activation creditcard': 62,\n",
              " u'pp good night': 1650,\n",
              " u'recently received': 1793,\n",
              " u'branch located': 265,\n",
              " u'travelling': 2155,\n",
              " u'just transaction': 1183,\n",
              " u'trk': 2172,\n",
              " u'send year statement': 1884,\n",
              " u'haven credit card': 984,\n",
              " u'remove annual charges': 1806,\n",
              " u'europe creditcard': 799,\n",
              " u'year statement year': 2324,\n",
              " u'error payment error': 795,\n",
              " u'going cntry make sure': 909,\n",
              " u'credit limit simp': 599,\n",
              " u'havent received card': 1004,\n",
              " u'revers annual membership annual': 1832,\n",
              " u'moving cancel card card': 1396,\n",
              " u'months received': 1372,\n",
              " u'received creditcard creditcard': 1778,\n",
              " u'atm machine proximate': 153,\n",
              " u'want set alert alert': 2275,\n",
              " u'atm machine proximity atm': 156,\n",
              " u'goodafternoon mobile': 949,\n",
              " u'card weeks': 380,\n",
              " u'havent': 1001,\n",
              " u'limit simp digit credit': 1236,\n",
              " u'activate card card': 44,\n",
              " u'simp digit payment': 1956,\n",
              " u'charge credit': 400,\n",
              " u'url website erred': 2187,\n",
              " u'hyderabad': 1144,\n",
              " u'simp digit pp month': 1972,\n",
              " u'number': 1473,\n",
              " u'want limit': 2261,\n",
              " u'swipe': 2075,\n",
              " u'branch closest branch': 263,\n",
              " u'dfc': 680,\n",
              " u'mmmm': 1337,\n",
              " u'frustrating close account': 895,\n",
              " u'10000 dollar': 1,\n",
              " u'sale sale': 1860,\n",
              " u'travel status travel status': 2154,\n",
              " u'stop credit card': 2059,\n",
              " u'credit limit simp digit': 600,\n",
              " u'close citi bank': 499,\n",
              " u'evening mobile pp simp': 807,\n",
              " u'want increase available': 2247,\n",
              " u'branch branch citi bank': 243,\n",
              " u'mobile pp hello': 1346,\n",
              " u'let know order status': 1218,\n",
              " u'annual charges annual': 84,\n",
              " u'bank stop': 230,\n",
              " u'pp months use': 1674,\n",
              " u'status application': 2012,\n",
              " u'closest automated teller': 518,\n",
              " u'card locked': 339,\n",
              " u'simp digit available': 1941,\n",
              " u'failed': 811,\n",
              " u'close cash machine': 497,\n",
              " u'machine citi': 1254,\n",
              " u'help set': 1085,\n",
              " u'machine citibank cash machine': 1258,\n",
              " u'tx simp': 2177,\n",
              " u'activate credit card help': 51,\n",
              " u'resend': 1816,\n",
              " u'set': 1887,\n",
              " u'number good morning': 1482,\n",
              " u'failed making': 820,\n",
              " u'mischieveous': 1331,\n",
              " u'available': 177,\n",
              " u'making payment simp digit': 1310,\n",
              " u'creditcard help activation': 627,\n",
              " u'alert alert': 70,\n",
              " u'cell number good': 391,\n",
              " u'payment related error payment': 1572,\n",
              " u'digit pp months': 734,\n",
              " u'5000 rs': 23,\n",
              " u'sale simp digit': 1862,\n",
              " u'help locate': 1057,\n",
              " u'travelling cntry simp digit': 2161,\n",
              " u'card help activation': 329,\n",
              " u'bank cancel': 205,\n",
              " u'simp digit pp weeks': 1979,\n",
              " u'error': 791,\n",
              " u'cntry simp digit pp': 534,\n",
              " u'status creditcard': 2037,\n",
              " u'recd credit card credit': 1761,\n",
              " u'citi atm': 432,\n",
              " u'know order status credit': 1197,\n",
              " u'alert': 69,\n",
              " u'walmart': 2209,\n",
              " u'credit card bank': 563,\n",
              " u'paying url': 1563,\n",
              " u'citibank cash': 452,\n",
              " u'digit yen': 764,\n",
              " u'creditcard personal': 638,\n",
              " u'application order status application': 103,\n",
              " u'card pin card pin': 361,\n",
              " u'simp': 1939,\n",
              " u'night simp digit': 1460,\n",
              " u'999 rupees': 38,\n",
              " u'machine closest': 1261,\n",
              " u'simp digit pp limit': 1970,\n",
              " u'trans failed': 2107,\n",
              " u'ship statement': 1924,\n",
              " u'machine nearest automated': 1267,\n",
              " u'nullify annual fees annual': 1470,\n",
              " u'creditcard activate creditcard creditcard': 611,\n",
              " u'simp digit pp rs': 1976,\n",
              " u'number mobile pp xeydzyqqxh': 1497,\n",
              " u'branch city bank branch': 257,\n",
              " u'charges annual charges': 414,\n",
              " u'blocked sale': 238,\n",
              " u'madam mobile': 1283,\n",
              " u'weeks want know order': 2299,\n",
              " u'failed credit card locked': 817,\n",
              " u'high credit': 1133,\n",
              " u'appliction order': 111,\n",
              " u'paying url website': 1564,\n",
              " u'link': 1247,\n",
              " u'frustrating cancel card card': 889,\n",
              " u'charge mischieveous': 403,\n",
              " u'branch city bank limited': 259,\n",
              " u'credit card personal index': 584,\n",
              " u'failed sale': 823,\n",
              " u'pp good evening': 1647,\n",
              " u'balance simp digit available': 194,\n",
              " u'close credit card credit': 507,\n",
              " u'dbgirwlkgg mobile': 671,\n",
              " u'hello': 1007,\n",
              " u'payment related': 1570,\n",
              " u'closest atm machine': 516,\n",
              " u'send': 1873,\n",
              " u'pp month use': 1668,\n",
              " u'help proximate city': 1071,\n",
              " u'cancel annual charges': 281,\n",
              " u'hi received credit card': 1121,\n",
              " u'try': 2173,\n",
              " u'cancel account account': 279,\n",
              " u'available credit': 183,\n",
              " u'pp simp digit': 1690,\n",
              " u'index': 1167,\n",
              " u'hi simp digit simp': 1124,\n",
              " u'transaction failed credit': 2125,\n",
              " u'revers annual fees': 1829,\n",
              " u'let': 1215,\n",
              " u'status credit card order': 2035,\n",
              " u'receive': 1763,\n",
              " u'help personal index': 1066,\n",
              " u'card limit card limit': 336,\n",
              " u'number goodafternoon': 1484,\n",
              " u'creditcard stopped': 646,\n",
              " u'pp days use': 1639,\n",
              " u'help send past': 1083,\n",
              " u'mischievous charge': 1334,\n",
              " u'high': 1125,\n",
              " u'night number': 1456,\n",
              " u'statement past months statement': 2001,\n",
              " u'months credit card': 1369,\n",
              " u'transaction simp digit yen': 2137,\n",
              " u'help resend month': 1078,\n",
              " u'help send past simp': 1084,\n",
              " u'pp weeks use': 1693,\n",
              " u'related failure': 1799,\n",
              " u'transaction simp digit rupees': 2136,\n",
              " u'alert travel alert': 74,\n",
              " u'pp goodnight': 1653,\n",
              " u'customer': 647,\n",
              " u'digit rupees ebay': 759,\n",
              " u'status card order': 2029,\n",
              " u'card stopped transaction credit': 379,\n",
              " u'branch proximate': 268,\n",
              " u'going nation want': 922,\n",
              " u'figured trans simp digit': 842,\n",
              " u'cell number simp digit': 395,\n",
              " u'digit pp good morning': 721,\n",
              " u'ebay wrong': 774,\n",
              " u'citi bank citi': 440,\n",
              " u'payment web': 1585,\n",
              " u'digit pp good afternoon': 720,\n",
              " u'need help activating': 1451,\n",
              " u'set status travel status': 1896,\n",
              " u'just transaction simp': 1184,\n",
              " u'order status status': 1534,\n",
              " u'set travel status': 1906,\n",
              " u'statement month': 1997,\n",
              " u'haven received card': 995,\n",
              " u'card pin': 358,\n",
              " u'email year': 780,\n",
              " u'digit rs bigbazar': 755,\n",
              " u'haven': 981,\n",
              " u'proximate branch': 1721,\n",
              " u'pin credit card pin': 1616,\n",
              " u'pp available': 1622,\n",
              " u'haven received creditcard': 999,\n",
              " u'creditcard europe': 622,\n",
              " u'haven recd': 991,\n",
              " u'travelling alert travelling alert': 2158,\n",
              " u'web link': 2282,\n",
              " u'cntry make sure': 530,\n",
              " u'want limit simp': 2262,\n",
              " u'proximate city': 1729,\n",
              " u'proximate citi': 1727,\n",
              " u'want complain going': 2224,\n",
              " u'high credit limit simp': 1138,\n",
              " u'closest citi bank': 524,\n",
              " u'going outside europe europe': 926,\n",
              " u'got card card': 973,\n",
              " u'good afternoon': 931,\n",
              " u'help activate card help': 1025,\n",
              " u'credit simp': 601,\n",
              " u'travelling status travelling': 2170,\n",
              " u'days use': 666,\n",
              " u'creditcard status creditcard': 645,\n",
              " u'city atm': 461,\n",
              " u'available balance available balance': 180,\n",
              " u'pp hello mam': 1657,\n",
              " u'asked branch city bank': 141,\n",
              " u'hi got': 1097,\n",
              " u'app order status': 95,\n",
              " u'email': 775,\n",
              " u'credit limit credit': 597,\n",
              " u'country use creditcard': 553,\n",
              " u'use card': 2192,\n",
              " u'figured': 839,\n",
              " u'ordered card': 1536,\n",
              " u'fraudster tranaction': 880,\n",
              " u'application status appliction': 109,\n",
              " u'limited automated': 1241,\n",
              " u'order status card': 1526,\n",
              " u'digit pp days applied': 712,\n",
              " u'want card limit simp': 2220,\n",
              " u'application status application status': 108,\n",
              " u'transaction simp digit': 2132,\n",
              " u'pp hello': 1655,\n",
              " u'pp days want': 1641,\n",
              " u'atm proximate atm': 167,\n",
              " u'sale failed sale': 1856,\n",
              " u'hi haven obtained': 1100,\n",
              " u'simp digit dollar wrong': 1952,\n",
              " u'digit pp day received': 710,\n",
              " u'set travelling status': 1913,\n",
              " u'pp year use': 1699,\n",
              " u'goodmorning number': 959,\n",
              " u'statement showing': 2002,\n",
              " u'hi received': 1119,\n",
              " u'mobile pp jkiupsgobh': 1348,\n",
              " u'country alert': 548,\n",
              " u'card card pin': 311,\n",
              " u'web': 2281,\n",
              " u'trans credit': 2105,\n",
              " u'close card bank card': 494,\n",
              " u'proximity atm proximity': 1735,\n",
              " u'branch city bank': 256,\n",
              " u'belgium': 235,\n",
              " u'credit card deactivated credit': 571,\n",
              " u'recd card': 1753,\n",
              " u'apply status appln': 136,\n",
              " u'balance available': 189,\n",
              " u'digit pp phone number': 744,\n",
              " u'apply order status appln': 134,\n",
              " u'simp digit pp yen': 1981,\n",
              " u'status credit card status': 2036,\n",
              " u'number simp': 1502,\n",
              " u'branch locate': 264,\n",
              " u'phone number simp digit': 1602,\n",
              " u'digit pp failed': 718,\n",
              " u'kkpakjyofl simp digit': 1188,\n",
              " u'erred payment url': 790,\n",
              " u'limit simp': 1233,\n",
              " u'citi bank cash machine': 439,\n",
              " u'branch close branch': 261,\n",
              " u'order status order': 1532,\n",
              " u'days applied': 655,\n",
              " u'trans simp': 2108,\n",
              " u'trans 5000': 2104,\n",
              " u'want credit credit': 2233,\n",
              " u'pp good afternoon': 1646,\n",
              " u'problem': 1701,\n",
              " u'cntry make sure transaction': 531,\n",
              " u'fraud charge': 870,\n",
              " u'transaction complai': 2120,\n",
              " u'digits pp': 767,\n",
              " u'details': 679,\n",
              " u'help status': 1087,\n",
              " u'swipe make swipe': 2079,\n",
              " u'error payment': 794,\n",
              " u'reverse': 1833,\n",
              " u'outside europe': 1543,\n",
              " u'received statement statement': 1788,\n",
              " u'month': 1359,\n",
              " u'pp hello madam': 1656,\n",
              " u'poppy': 1620,\n",
              " u'near': 1413,\n",
              " u'credit card help credit': 575,\n",
              " u'country want set': 555,\n",
              " u'closest automated': 517,\n",
              " u'obtained': 1507,\n",
              " u'atm proximity': 168,\n",
              " u'help cancel annual': 1043,\n",
              " u'credit card personal': 583,\n",
              " u'near cash machine': 1421,\n",
              " u'work': 2301,\n",
              " u'application order': 101,\n",
              " u'erred paying': 788,\n",
              " u'card belgium': 307,\n",
              " u'want report going': 2270,\n",
              " u'high available': 1126,\n",
              " u'closest city': 525,\n",
              " u'india': 1175,\n",
              " u'waive annual': 2200,\n",
              " u'closest citi': 523,\n",
              " u'number hello mam': 1487,\n",
              " u'pp card': 1624,\n",
              " u'credit card card pin': 567,\n",
              " u'provide': 1702,\n",
              " u'applied card received card': 117,\n",
              " u'shuopizebx mobile pp simp': 1933,\n",
              " u'nearest atm nearest atm': 1430,\n",
              " u'transaction simp': 2131,\n",
              " u'track application status': 2098,\n",
              " u'order': 1516,\n",
              " u'remove annual membership annual': 1811,\n",
              " u'number mobile pp number': 1494,\n",
              " u'nullify annual membership': 1471,\n",
              " u'status appliction order': 2019,\n",
              " u'days recd': 663,\n",
              " u'obtained card': 1508,\n",
              " u'failed tx': 828,\n",
              " u'proximate automated teller': 1719,\n",
              " u'hi haven': 1098,\n",
              " u'bank': 197,\n",
              " u'fraudster transaction': 881,\n",
              " u'months use creditcard': 1380,\n",
              " u'pp xeydzyqqxh': 1697,\n",
              " u'forgot card pin': 862,\n",
              " u'charge simp digit': 406,\n",
              " u'balance simp digit pp': 195,\n",
              " u'pp cell': 1626,\n",
              " u'akslakalkd': 67,\n",
              " u'erred making': 786,\n",
              " u'simp digit rupees amazon': 1986,\n",
              " u'transaction simp digit rs': 2135,\n",
              " u'seen transaction simp': 1871,\n",
              " u'pp months use card': 1675,\n",
              " u'nearest cash machine': 1438,\n",
              " u'activate card': 43,\n",
              " u'moving cancel': 1392,\n",
              " u'obtained card card': 1509,\n",
              " u'help atm pin atm': 1039,\n",
              " u'weeks use creditcard': 2296,\n",
              " u'status card status': 2031,\n",
              " u'citibank': 447,\n",
              " u'ebay': 772,\n",
              " u'help status application': 1088,\n",
              " u'haven received card haven': 996,\n",
              " u'going fore country': 916,\n",
              " u'travel flag travel': 2147,\n",
              " u'simp digit yen': 1991,\n",
              " u'hi simp': 1122,\n",
              " u'set travelling signal': 1911,\n",
              " u'near automated teller machine': 1418,\n",
              " u'close creditcard creditcard': 511,\n",
              " u'applied simp digit pp': 127,\n",
              " u'teller machine proximity': 2091,\n",
              " u'mobile pp xeydzyqqxh': 1355,\n",
              " u'help close': 1047,\n",
              " u'work credit card': 2304,\n",
              " u'yen': 2328,\n",
              " u'set travel flag travel': 1903,\n",
              " u'cancel annual fees annual': 284,\n",
              " u'evening mobile': 805,\n",
              " u'asked branch locate': 142,\n",
              " u'atm pin atm pin': 161,\n",
              " u'mail month statement month': 1290,\n",
              " u'branch citi bank citi': 249,\n",
              " u'credit card stopped': 593,\n",
              " u'emi': 782,\n",
              " u'city bank city branch': 471,\n",
              " u'goodnight number mobile': 969,\n",
              " u'waive annual charges annual': 2204,\n",
              " u'goodmorning mobile': 957,\n",
              " u'moving stop': 1405,\n",
              " u'help card': 1044,\n",
              " u'waive annual fees annual': 2206,\n",
              " u'pp months statement past': 1673,\n",
              " u'received': 1764,\n",
              " u'failure payment': 832,\n",
              " u'proximity atm machine proximity': 1734,\n",
              " u'application status': 106,\n",
              " u'hi haven got': 1099,\n",
              " u'credit transaction': 607,\n",
              " u'applied': 114,\n",
              " u'shuopizebx mobile pp': 1932,\n",
              " u'credit card stopped transaction': 594,\n",
              " u'moving close account': 1400,\n",
              " u'want available credit simp': 2217,\n",
              " u'wrong transaction': 2313,\n",
              " u'got credit card make': 976,\n",
              " u'received creditcard make work': 1780,\n",
              " u'city bank cash': 468,\n",
              " u'received card activate': 1766,\n",
              " u'high credit card': 1134,\n",
              " u'pp hi phone number': 1662,\n",
              " u'high card limit': 1131,\n",
              " u'set status travelling status': 1898,\n",
              " u'help status application status': 1089,\n",
              " u'haven creditcard': 985,\n",
              " u'pp good morning': 1648,\n",
              " u'proximate atm': 1713,\n",
              " u'pp credit card': 1630,\n",
              " u'apply status': 135,\n",
              " u'bank limited automated teller': 227,\n",
              " u'want complain fraud': 2223,\n",
              " u'status creditcard status': 2040,\n",
              " u'night': 1455,\n",
              " u'pp jkiupsgobh': 1663,\n",
              " u'teller machine closest': 2086,\n",
              " u'payment related failure payment': 1574,\n",
              " u'bank branch branch': 203,\n",
              " u'frustrating close account account': 896,\n",
              " u'digit pp yen': 753,\n",
              " u'months': 1366,\n",
              " u'number number': 1498,\n",
              " u'stopped card': 2065,\n",
              " u'payment': 1566,\n",
              " u'order status creditcard order': 1531,\n",
              " u'weeks card': 2291,\n",
              " u'months use credit card': 1379,\n",
              " u'high credit simp': 1139,\n",
              " u'branch proximity branch': 271,\n",
              " u'near city': 1423,\n",
              " u'simp digit pp day': 1962,\n",
              " u'rs bigbazar': 1840,\n",
              " u'near citi': 1422,\n",
              " u'simp digit failed': 1953,\n",
              " u'got creditcard': 977,\n",
              " u'flag': 845,\n",
              " u'received year year': 1790,\n",
              " u'month use': 1365,\n",
              " u'number mobile pp good': 1490,\n",
              " u'payment simp digit pp': 1580,\n",
              " u'7000': 26,\n",
              " u'pin card atm pin': 1608,\n",
              " u'received year': 1789,\n",
              " u'let know set alert': 1220,\n",
              " u'number mobile pp jkiupsgobh': 1493,\n",
              " u'simp digit rupees ebay': 1987,\n",
              " u'atm pin': 159,\n",
              " u'check status creditcard status': 429,\n",
              " u'bank stop credit': 233,\n",
              " u'card personal index number': 357,\n",
              " u'digit simp digit': 762,\n",
              " u'hdfc': 1006,\n",
              " u'city branch branch citi': 478,\n",
              " u'near atm': 1414,\n",
              " u'good night simp': 946,\n",
              " u'haven received': 994,\n",
              " u'phone number mobile pp': 1600,\n",
              " u'know status': 1203,\n",
              " u'number mobile': 1488,\n",
              " u'trans': 2103,\n",
              " u'need help activate creditcard': 1450,\n",
              " u'check order': 416,\n",
              " u'help proximate': 1070,\n",
              " u'creditcard creditcard creditcard': 619,\n",
              " u'stop card': 2054,\n",
              " u'afternoon': 65,\n",
              " u'proximity citi': 1743,\n",
              " u'just seen': 1182,\n",
              " u'membership annual': 1326,\n",
              " u'want high credit limit': 2244,\n",
              " u'deactivated': 674,\n",
              " u'want increase': 2246,\n",
              " u'sure swipe': 2073,\n",
              " u'pp days applied': 1636,\n",
              " u'statement year': 2004,\n",
              " u'activate card help card': 47,\n",
              " u'card help card': 330,\n",
              " u'resend month statement month': 1820,\n",
              " u'stop card bank card': 2056,\n",
              " u'citi bank limited atm': 443,\n",
              " u'digit pp available': 699,\n",
              " u'status apply order': 2024,\n",
              " u'available credit available credit': 185,\n",
              " u'closest automated teller machine': 519,\n",
              " u'year': 2321,\n",
              " u'cancel account': 278,\n",
              " u'card limit': 334,\n",
              " u'increase': 1145,\n",
              " u'months use': 1376,\n",
              " u'nullify annual membership annual': 1472,\n",
              " u'city bank': 462,\n",
              " u'card': 294,\n",
              " u'care': 381,\n",
              " u'night simp digit simp': 1461,\n",
              " u'increase limit simp digit': 1166,\n",
              " u'number good night': 1483,\n",
              " u'check order status credit': 421,\n",
              " u'travelling status': 2169,\n",
              " u'check status card': 426,\n",
              " u'send past simp digit': 1880,\n",
              " u'nearest cash': 1437,\n",
              " u'reach city': 1750,\n",
              " u'simp digit rupees': 1985,\n",
              " u'card haven credit card': 327,\n",
              " u'10000 yen': 4,\n",
              " u'work credit': 2303,\n",
              " u'appled': 99,\n",
              " u'pin card card': 1609,\n",
              " u'weeks want know': 2298,\n",
              " u'set travel signal': 1904,\n",
              " u'waive annual annual': 2201,\n",
              " u'digit pp weeks want': 750,\n",
              " u'received creditcard': 1777,\n",
              " u'erred': 784,\n",
              " u'credit simp digit credit': 604,\n",
              " u'high limit simp': 1142,\n",
              " u'set status travelling': 1897,\n",
              " u'make work credit': 1301,\n",
              " u'card bank credit card': 306,\n",
              " u'increase card': 1152,\n",
              " u'pin creditcard': 1617,\n",
              " u'transaction creditcard': 2123,\n",
              " u'making payment error': 1306,\n",
              " u'recd card activate': 1754,\n",
              " u'applied simp digit': 126,\n",
              " u'stop creditcard': 2062,\n",
              " u'haven obtained card': 989,\n",
              " u'status travel status': 2046,\n",
              " u'want credit limit': 2234,\n",
              " u'finished applying': 844,\n",
              " u'day received': 651,\n",
              " u'atm nearest atm': 158,\n",
              " u'going cntry': 907,\n",
              " u'going cntry simp digit': 911,\n",
              " u'branch branch citi': 242,\n",
              " u'simp digit rs': 1982,\n",
              " u'obtained creditcard activate creditcard': 1514,\n",
              " u'transaction tranaction': 2138,\n",
              " u'failed balance': 812,\n",
              " u'goodmorning': 956,\n",
              " u'failed trans': 826,\n",
              " u'remove annual annual': 1804,\n",
              " u'complain mischief': 543,\n",
              " u'close atm machine': 488,\n",
              " u'want know order status': 2258,\n",
              " u'creditcard order status creditcard': 637,\n",
              " u'showing transaction': 1929,\n",
              " u'weeks want': 2297,\n",
              " u'foreign country': 854,\n",
              " u'close atm close atm': 487,\n",
              " u'closest': 512,\n",
              " u'need help activate': 1448,\n",
              " u'want proximate': 2268,\n",
              " u'morning simp digit simp': 1390,\n",
              " u'seen transaction': 1870,\n",
              " u'charges': 412,\n",
              " u'city bank automated': 464,\n",
              " u'europe europe': 800,\n",
              " u'close city': 501,\n",
              " u'close citi': 498,\n",
              " u'resend statement statement': 1822,\n",
              " u'alert travel': 73,\n",
              " u'help annual': 1036,\n",
              " u'moving close creditcard creditcard': 1404,\n",
              " u'card haven credit': 326,\n",
              " u'membership annual annual': 1327,\n",
              " u'alert nation': 71,\n",
              " u'simp digit yen failed': 1992,\n",
              " u'credit card card': 566,\n",
              " u'digit pp mmmm ooo': 731,\n",
              " u'haven received creditcard creditcard': 1000,\n",
              " u'annual membership': 89,\n",
              " u'city_name': 480,\n",
              " u'amazon failed': 78,\n",
              " u'know status app status': 1205,\n",
              " u'status apply order status': 2025,\n",
              " u'increase available balance': 1147,\n",
              " u'fraud': 869,\n",
              " u'pin creditcard pin': 1618,\n",
              " u'card card pin credit': 313,\n",
              " u'balance related': 191,\n",
              " u'alert travelling': 75,\n",
              " u'walmart failed': 2210,\n",
              " u'card limit simp digit': 338,\n",
              " u'want increase available credit': 2249,\n",
              " u'citi bank cash': 438,\n",
              " u'received card make': 1771,\n",
              " u'applied card': 115,\n",
              " u'check order status': 417,\n",
              " u'dollar wrong': 771,\n",
              " u'card obtained': 349,\n",
              " u'days applied order status': 659,\n",
              " u'want want complain': 2278,\n",
              " u'citi bank citi branch': 441,\n",
              " u'mobile pp good': 1344,\n",
              " u'atm proximity atm': 169,\n",
              " u'making payment web': 1314,\n",
              " u'want inform': 2254,\n",
              " u'index number personal index': 1174,\n",
              " u'sale 3000000': 1852,\n",
              " u'available credit available': 184,\n",
              " u'good night number simp': 945,\n",
              " u'number credit card': 1475,\n",
              " u'frustrating': 884,\n",
              " u'help credit': 1049,\n",
              " u'fraudster fraudster': 879,\n",
              " u'year year': 2327,\n",
              " u'error balance': 792,\n",
              " u'failure paying': 831,\n",
              " u'help activating creditcard': 1031,\n",
              " u'fraudster': 877,\n",
              " u'increase limit simp': 1165,\n",
              " u'travelling cntry simp': 2160,\n",
              " u'close creditcard': 508,\n",
              " u'near automated': 1416,\n",
              " u'cancel annual membership annual': 286,\n",
              " u'want set alert': 2274,\n",
              " u'frustrating cancel': 885,\n",
              " u'proximity city': 1744,\n",
              " u'atm machine proximate atm': 154,\n",
              " u'europe simp digit pp': 803,\n",
              " u'hi havent received card': 1107,\n",
              " ...}"
            ]
          },
          "metadata": {
            "tags": []
          },
          "execution_count": 44
        }
      ]
    },
    {
      "cell_type": "code",
      "metadata": {
        "id": "b7ZLXQ-VYhgs",
        "outputId": "3b8f1d56-981f-483f-d1e7-2b54ea0f0304"
      },
      "source": [
        "tfidf_vectorizer_char = TfidfVectorizer(min_df = 10,ngram_range=(2, 6),analyzer ='char')\n",
        "tfidf_matrix_char = tfidf_vectorizer_char.fit_transform(ll)\n",
        "tf1_char = tfidf_matrix_char.todense()\n",
        "\n",
        "tf1_test_char = tfidf_vectorizer_char.transform(ll_test)\n",
        "tf1_test_char=tf1_test_char.todense()\n",
        "\n",
        "len(tf1_char),tf1_char.shape,tf1_test_char.shape"
      ],
      "execution_count": null,
      "outputs": [
        {
          "output_type": "execute_result",
          "data": {
            "text/plain": [
              "(4221, (4221L, 7371L), (1056L, 7371L))"
            ]
          },
          "metadata": {
            "tags": []
          },
          "execution_count": 45
        }
      ]
    },
    {
      "cell_type": "code",
      "metadata": {
        "id": "T2MWZ320Yhgs",
        "outputId": "e5d01799-0372-4c35-d168-a6ba90d50406"
      },
      "source": [
        "doc_ll_test.shape,tf1.shape"
      ],
      "execution_count": null,
      "outputs": [
        {
          "output_type": "execute_result",
          "data": {
            "text/plain": [
              "((1056L, 384L), (4221L, 2333L))"
            ]
          },
          "metadata": {
            "tags": []
          },
          "execution_count": 46
        }
      ]
    },
    {
      "cell_type": "code",
      "metadata": {
        "id": "d26fToFMYhgs",
        "outputId": "6afa5bfb-10a1-4359-899d-6148f6f9ce46"
      },
      "source": [
        "\n",
        "tf1_all = np.concatenate([tf1,tf1_char,arr1,doc_ll_train],axis=1)\n",
        "#tf1_all = np.column_stack ([tf1,tf1_char,arr1,doc_ll_train])\n",
        "tf1_test_all = np.concatenate([tf1_test,tf1_test_char,arr1_test,doc_ll_test],axis=1)\n",
        "#tf1_test_all = np.column_stack([tf1_test,tf1_test_char,arr1_test,doc_ll_test])\n",
        "tf1_all.shape,tf1_test_all.shape"
      ],
      "execution_count": null,
      "outputs": [
        {
          "output_type": "execute_result",
          "data": {
            "text/plain": [
              "((4221L, 10117L), (1056L, 10117L))"
            ]
          },
          "metadata": {
            "tags": []
          },
          "execution_count": 47
        }
      ]
    },
    {
      "cell_type": "code",
      "metadata": {
        "id": "QamGXveWYhgs",
        "outputId": "5d11cb2c-ca7b-4320-c683-c399ea0c0cd4"
      },
      "source": [
        "import numpy as np\n",
        "a_train_b,a_test_b= tf1_all,tf1_test_all\n",
        "b_train_b= tgt3[train_index]\n",
        "b_test_b = tgt3[test_index]\n",
        "\n",
        "print isinstance(b_test_b,np.ndarray)"
      ],
      "execution_count": null,
      "outputs": [
        {
          "output_type": "stream",
          "text": [
            "False\n"
          ],
          "name": "stdout"
        }
      ]
    },
    {
      "cell_type": "code",
      "metadata": {
        "id": "7lT3SkHbYhgt"
      },
      "source": [
        "#import pickle\n",
        "#pickle.dump(tfidf_vectorizer, open(flop + \"/\" + \"tfidf_vectorizer\", \"wb\"))\n",
        "\n",
        "from sklearn.feature_selection import SelectPercentile, f_classif\n",
        "selector = SelectPercentile(f_classif, percentile=60)\n",
        "\n",
        "#selector.fit(a_train_b, b_train_b)\n",
        "a_train_b = selector.fit_transform(a_train_b, b_train_b)\n",
        "a_test_b = selector.transform(a_test_b)"
      ],
      "execution_count": null,
      "outputs": []
    },
    {
      "cell_type": "code",
      "metadata": {
        "id": "LDiUqJFoYhgt"
      },
      "source": [
        "from sklearn.feature_selection import SelectPercentile, f_classif\n",
        "selector = SelectPercentile(f_classif, percentile=5)\n",
        "#selector.fit(a_train_b, b_train_b)\n",
        "a_train_b_np = selector.fit_transform(a_train_b, b_train_b)\n",
        "a_train_b=pd.DataFrame(a_train_b_np)\n",
        "a_test_b = selector.transform(a_test_b)"
      ],
      "execution_count": null,
      "outputs": []
    },
    {
      "cell_type": "code",
      "metadata": {
        "id": "O2axjrMvYhgt",
        "outputId": "cb36fdf7-ec6b-4474-e33c-d1cf511e038c"
      },
      "source": [
        "#pickle.dump(selector, open(flop + \"/\" + \"selector\", \"wb\"))\n",
        "a_train_b.shape\n",
        "type(a_train_b)"
      ],
      "execution_count": null,
      "outputs": [
        {
          "output_type": "execute_result",
          "data": {
            "text/plain": [
              "numpy.ndarray"
            ]
          },
          "metadata": {
            "tags": []
          },
          "execution_count": 90
        }
      ]
    },
    {
      "cell_type": "code",
      "metadata": {
        "id": "33FOED_UYhgt",
        "outputId": "4639ff1e-5312-4683-9080-1a223e03e917"
      },
      "source": [
        "from sklearn.linear_model import LogisticRegression\n",
        "#sample_weight = {\"driving_re\":0.5,\"stil_re\":2,\"other\":2,\"walking_re\":0.75}\n",
        "#sample_weight = {\"driving_re\":0.5,\"other\":1}\n",
        "#class_weight=sample_weight\n",
        "clf_log = LogisticRegression()\n",
        "\n",
        "clf_log.fit(a_train_b,b_train_b)  "
      ],
      "execution_count": null,
      "outputs": [
        {
          "output_type": "execute_result",
          "data": {
            "text/plain": [
              "LogisticRegression(C=1.0, class_weight=None, dual=False, fit_intercept=True,\n",
              "          intercept_scaling=1, max_iter=100, multi_class='ovr', n_jobs=1,\n",
              "          penalty='l2', random_state=None, solver='liblinear', tol=0.0001,\n",
              "          verbose=0, warm_start=False)"
            ]
          },
          "metadata": {
            "tags": []
          },
          "execution_count": 80
        }
      ]
    },
    {
      "cell_type": "code",
      "metadata": {
        "id": "Y4CZsAcSYhgu",
        "outputId": "0b12728c-f72e-4ef5-d1a4-7d752ae31db9"
      },
      "source": [
        "pred=clf_log.predict(a_test_b)\n",
        "from sklearn.metrics import accuracy_score\n",
        "print accuracy_score(b_test_b, pred)"
      ],
      "execution_count": null,
      "outputs": [
        {
          "output_type": "stream",
          "text": [
            "0.9450757575757576\n"
          ],
          "name": "stdout"
        }
      ]
    },
    {
      "cell_type": "code",
      "metadata": {
        "id": "dkSZz2m7Yhgu",
        "outputId": "56880459-76e5-4b91-e4d5-c4b9c78a9e67"
      },
      "source": [
        "from sklearn.ensemble import GradientBoostingClassifier\n",
        "gb= GradientBoostingClassifier(n_estimators=300)\n",
        "gb.fit(a_train_b,b_train_b)"
      ],
      "execution_count": null,
      "outputs": [
        {
          "output_type": "execute_result",
          "data": {
            "text/plain": [
              "GradientBoostingClassifier(criterion='friedman_mse', init=None,\n",
              "              learning_rate=0.1, loss='deviance', max_depth=3,\n",
              "              max_features=None, max_leaf_nodes=None,\n",
              "              min_impurity_decrease=0.0, min_impurity_split=None,\n",
              "              min_samples_leaf=1, min_samples_split=2,\n",
              "              min_weight_fraction_leaf=0.0, n_estimators=300,\n",
              "              presort='auto', random_state=None, subsample=1.0, verbose=0,\n",
              "              warm_start=False)"
            ]
          },
          "metadata": {
            "tags": []
          },
          "execution_count": 82
        }
      ]
    },
    {
      "cell_type": "code",
      "metadata": {
        "id": "CBWRP6u-Yhgu",
        "outputId": "a815bfe6-3646-441b-c132-94c35ddb1716"
      },
      "source": [
        "pred=gb.predict(a_test_b)\n",
        "from sklearn.metrics import accuracy_score\n",
        "print accuracy_score(b_test_b, pred)"
      ],
      "execution_count": null,
      "outputs": [
        {
          "output_type": "stream",
          "text": [
            "0.9876893939393939\n"
          ],
          "name": "stdout"
        }
      ]
    },
    {
      "cell_type": "code",
      "metadata": {
        "id": "MTOZ-UlhYhgv"
      },
      "source": [
        "from sklearn import metrics\n",
        "from sklearn.model_selection import cross_val_score\n",
        "scores_lr = cross_val_score(clf_log, a_train_b,b_train_b, cv=3, scoring='accuracy')\n",
        "scores_gb = cross_val_score(gb, a_train_b,b_train_b, cv=3, scoring='accuracy')"
      ],
      "execution_count": null,
      "outputs": []
    },
    {
      "cell_type": "code",
      "metadata": {
        "id": "-ZAF9dQVYhgv",
        "outputId": "87cc08dd-e322-4134-c66d-c95f9f9d6436"
      },
      "source": [
        "print scores_lr,scores_gb"
      ],
      "execution_count": null,
      "outputs": [
        {
          "output_type": "stream",
          "text": [
            "[0.93413598 0.94677076 0.93571429] [0.98087819 0.98296664 0.97142857]\n"
          ],
          "name": "stdout"
        }
      ]
    },
    {
      "cell_type": "code",
      "metadata": {
        "id": "84G0hW6QYhgv"
      },
      "source": [
        "#pickle.dump(clf_log, open(flop + \"/\" + \"clf_log\", \"wb\"))"
      ],
      "execution_count": null,
      "outputs": []
    },
    {
      "cell_type": "code",
      "metadata": {
        "id": "JdvDIziGYhgv",
        "outputId": "60f8ac71-949b-4cce-99c7-6123d3049961"
      },
      "source": [
        "from sklearn.externals import joblib\n",
        "\n",
        "joblib.dump(tfidf_vectorizer, \"tfidf_vectorizer.joblib\",compress=1)\n",
        "joblib.dump(tfidf_vectorizer_char, \"tfidf_vectorizer_char.joblib\",compress=1)\n",
        "joblib.dump(dictionary, \"dictionary.joblib\",compress=1)\n",
        "joblib.dump(ldamodel,\"ldamodel.joblib\",compress=1)\n",
        "joblib.dump(selector,\"selector.joblib\",compress=1)\n",
        "joblib.dump(clf_log, \"clf_log.joblib\",compress=1)\n",
        "joblib.dump(gb,\"gb.joblib\",compress=1)\n"
      ],
      "execution_count": null,
      "outputs": [
        {
          "output_type": "execute_result",
          "data": {
            "text/plain": [
              "['gb.joblib']"
            ]
          },
          "metadata": {
            "tags": []
          },
          "execution_count": 87
        }
      ]
    },
    {
      "cell_type": "code",
      "metadata": {
        "id": "fflYqBVxYhgw",
        "outputId": "3a2c0d4d-f408-4d50-e238-4f821ae06f73"
      },
      "source": [
        "pickle.dump(tfidf_vectorizer, open(folder_mod + \"/\" + \"tfidf_vectorizer\", \"wb\"))\n",
        "pickle.dump(tfidf_vectorizer_char, open(folder_mod + \"/\" + \"tfidf_vectorizer_char\", \"wb\"))\n",
        "\n",
        "pickle.dump(dictionary, open(folder_mod + \"/\" + \"dictionary\", \"wb\"))\n",
        "pickle.dump(ldamodel, open(folder_mod + \"/\" + \"ldamodel\", \"wb\"))\n",
        "\n",
        "\n",
        "\n",
        "pickle.dump(selector, open(folder_mod + \"/\" + \"selector\", \"wb\"))\n",
        "pickle.dump(clf_log, open(folder_mod + \"/\" + \"clf_log\", \"wb\"))\n",
        "pickle.dump(gb, open(folder_mod + \"/\" + \"gb\", \"wb\"))\n"
      ],
      "execution_count": null,
      "outputs": [
        {
          "output_type": "error",
          "ename": "IOError",
          "evalue": "[Errno 13] Permission denied: '/tfidf_vectorizer'",
          "traceback": [
            "\u001b[1;31m---------------------------------------------------------------------------\u001b[0m",
            "\u001b[1;31mIOError\u001b[0m                                   Traceback (most recent call last)",
            "\u001b[1;32m<ipython-input-67-0f05b94c9898>\u001b[0m in \u001b[0;36m<module>\u001b[1;34m()\u001b[0m\n\u001b[1;32m----> 1\u001b[1;33m \u001b[0mpickle\u001b[0m\u001b[1;33m.\u001b[0m\u001b[0mdump\u001b[0m\u001b[1;33m(\u001b[0m\u001b[0mtfidf_vectorizer\u001b[0m\u001b[1;33m,\u001b[0m \u001b[0mopen\u001b[0m\u001b[1;33m(\u001b[0m\u001b[0mfolder_mod\u001b[0m \u001b[1;33m+\u001b[0m \u001b[1;34m\"/\"\u001b[0m \u001b[1;33m+\u001b[0m \u001b[1;34m\"tfidf_vectorizer\"\u001b[0m\u001b[1;33m,\u001b[0m \u001b[1;34m\"wb\"\u001b[0m\u001b[1;33m)\u001b[0m\u001b[1;33m)\u001b[0m\u001b[1;33m\u001b[0m\u001b[0m\n\u001b[0m\u001b[0;32m      2\u001b[0m \u001b[0mpickle\u001b[0m\u001b[1;33m.\u001b[0m\u001b[0mdump\u001b[0m\u001b[1;33m(\u001b[0m\u001b[0mtfidf_vectorizer_char\u001b[0m\u001b[1;33m,\u001b[0m \u001b[0mopen\u001b[0m\u001b[1;33m(\u001b[0m\u001b[0mfolder_mod\u001b[0m \u001b[1;33m+\u001b[0m \u001b[1;34m\"/\"\u001b[0m \u001b[1;33m+\u001b[0m \u001b[1;34m\"tfidf_vectorizer_char\"\u001b[0m\u001b[1;33m,\u001b[0m \u001b[1;34m\"wb\"\u001b[0m\u001b[1;33m)\u001b[0m\u001b[1;33m)\u001b[0m\u001b[1;33m\u001b[0m\u001b[0m\n\u001b[0;32m      3\u001b[0m \u001b[1;33m\u001b[0m\u001b[0m\n\u001b[0;32m      4\u001b[0m \u001b[0mpickle\u001b[0m\u001b[1;33m.\u001b[0m\u001b[0mdump\u001b[0m\u001b[1;33m(\u001b[0m\u001b[0mdictionary\u001b[0m\u001b[1;33m,\u001b[0m \u001b[0mopen\u001b[0m\u001b[1;33m(\u001b[0m\u001b[0mfolder_mod\u001b[0m \u001b[1;33m+\u001b[0m \u001b[1;34m\"/\"\u001b[0m \u001b[1;33m+\u001b[0m \u001b[1;34m\"dictionary\"\u001b[0m\u001b[1;33m,\u001b[0m \u001b[1;34m\"wb\"\u001b[0m\u001b[1;33m)\u001b[0m\u001b[1;33m)\u001b[0m\u001b[1;33m\u001b[0m\u001b[0m\n\u001b[0;32m      5\u001b[0m \u001b[0mpickle\u001b[0m\u001b[1;33m.\u001b[0m\u001b[0mdump\u001b[0m\u001b[1;33m(\u001b[0m\u001b[0mldamodel\u001b[0m\u001b[1;33m,\u001b[0m \u001b[0mopen\u001b[0m\u001b[1;33m(\u001b[0m\u001b[0mfolder_mod\u001b[0m \u001b[1;33m+\u001b[0m \u001b[1;34m\"/\"\u001b[0m \u001b[1;33m+\u001b[0m \u001b[1;34m\"ldamodel\"\u001b[0m\u001b[1;33m,\u001b[0m \u001b[1;34m\"wb\"\u001b[0m\u001b[1;33m)\u001b[0m\u001b[1;33m)\u001b[0m\u001b[1;33m\u001b[0m\u001b[0m\n",
            "\u001b[1;31mIOError\u001b[0m: [Errno 13] Permission denied: '/tfidf_vectorizer'"
          ]
        }
      ]
    },
    {
      "cell_type": "code",
      "metadata": {
        "id": "0N1SgskQYhgw"
      },
      "source": [
        ""
      ],
      "execution_count": null,
      "outputs": []
    },
    {
      "cell_type": "code",
      "metadata": {
        "id": "2HCph4o7Yhgw"
      },
      "source": [
        ""
      ],
      "execution_count": null,
      "outputs": []
    },
    {
      "cell_type": "code",
      "metadata": {
        "id": "LIcjvzc7Yhgw"
      },
      "source": [
        ""
      ],
      "execution_count": null,
      "outputs": []
    },
    {
      "cell_type": "code",
      "metadata": {
        "id": "dDjz6oL6Yhgw"
      },
      "source": [
        ""
      ],
      "execution_count": null,
      "outputs": []
    },
    {
      "cell_type": "code",
      "metadata": {
        "id": "t1XJOM-mYhgw"
      },
      "source": [
        ""
      ],
      "execution_count": null,
      "outputs": []
    },
    {
      "cell_type": "code",
      "metadata": {
        "id": "p9eGDqf7Yhgw"
      },
      "source": [
        ""
      ],
      "execution_count": null,
      "outputs": []
    }
  ]
}